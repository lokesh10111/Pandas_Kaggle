{
 "cells": [
  {
   "cell_type": "markdown",
   "id": "597ad034",
   "metadata": {
    "papermill": {
     "duration": 0.006199,
     "end_time": "2023-05-07T07:05:33.383458",
     "exception": false,
     "start_time": "2023-05-07T07:05:33.377259",
     "status": "completed"
    },
    "tags": []
   },
   "source": [
    "**This notebook is an exercise in the [Pandas](https://www.kaggle.com/learn/pandas) course.  You can reference the tutorial at [this link](https://www.kaggle.com/residentmario/renaming-and-combining).**\n",
    "\n",
    "---\n"
   ]
  },
  {
   "cell_type": "markdown",
   "id": "68231a72",
   "metadata": {
    "papermill": {
     "duration": 0.005305,
     "end_time": "2023-05-07T07:05:33.394553",
     "exception": false,
     "start_time": "2023-05-07T07:05:33.389248",
     "status": "completed"
    },
    "tags": []
   },
   "source": [
    "# Introduction\n",
    "\n",
    "Run the following cell to load your data and some utility functions."
   ]
  },
  {
   "cell_type": "code",
   "execution_count": 1,
   "id": "20d81955",
   "metadata": {
    "execution": {
     "iopub.execute_input": "2023-05-07T07:05:33.408069Z",
     "iopub.status.busy": "2023-05-07T07:05:33.407697Z",
     "iopub.status.idle": "2023-05-07T07:05:37.930638Z",
     "shell.execute_reply": "2023-05-07T07:05:37.928979Z"
    },
    "papermill": {
     "duration": 4.533001,
     "end_time": "2023-05-07T07:05:37.933700",
     "exception": false,
     "start_time": "2023-05-07T07:05:33.400699",
     "status": "completed"
    },
    "tags": []
   },
   "outputs": [
    {
     "name": "stdout",
     "output_type": "stream",
     "text": [
      "Setup complete.\n"
     ]
    }
   ],
   "source": [
    "import pandas as pd\n",
    "\n",
    "reviews = pd.read_csv(\"../input/wine-reviews/winemag-data-130k-v2.csv\", index_col=0)\n",
    "\n",
    "from learntools.core import binder; binder.bind(globals())\n",
    "from learntools.pandas.renaming_and_combining import *\n",
    "print(\"Setup complete.\")"
   ]
  },
  {
   "cell_type": "markdown",
   "id": "844b5f7b",
   "metadata": {
    "papermill": {
     "duration": 0.005671,
     "end_time": "2023-05-07T07:05:37.945234",
     "exception": false,
     "start_time": "2023-05-07T07:05:37.939563",
     "status": "completed"
    },
    "tags": []
   },
   "source": [
    "# Exercises\n",
    "\n",
    "View the first several lines of your data by running the cell below:"
   ]
  },
  {
   "cell_type": "code",
   "execution_count": 2,
   "id": "190f282e",
   "metadata": {
    "execution": {
     "iopub.execute_input": "2023-05-07T07:05:37.958297Z",
     "iopub.status.busy": "2023-05-07T07:05:37.957858Z",
     "iopub.status.idle": "2023-05-07T07:05:37.989744Z",
     "shell.execute_reply": "2023-05-07T07:05:37.988530Z"
    },
    "papermill": {
     "duration": 0.041338,
     "end_time": "2023-05-07T07:05:37.992220",
     "exception": false,
     "start_time": "2023-05-07T07:05:37.950882",
     "status": "completed"
    },
    "tags": []
   },
   "outputs": [
    {
     "data": {
      "text/html": [
       "<div>\n",
       "<style scoped>\n",
       "    .dataframe tbody tr th:only-of-type {\n",
       "        vertical-align: middle;\n",
       "    }\n",
       "\n",
       "    .dataframe tbody tr th {\n",
       "        vertical-align: top;\n",
       "    }\n",
       "\n",
       "    .dataframe thead th {\n",
       "        text-align: right;\n",
       "    }\n",
       "</style>\n",
       "<table border=\"1\" class=\"dataframe\">\n",
       "  <thead>\n",
       "    <tr style=\"text-align: right;\">\n",
       "      <th></th>\n",
       "      <th>country</th>\n",
       "      <th>description</th>\n",
       "      <th>designation</th>\n",
       "      <th>points</th>\n",
       "      <th>price</th>\n",
       "      <th>province</th>\n",
       "      <th>region_1</th>\n",
       "      <th>region_2</th>\n",
       "      <th>taster_name</th>\n",
       "      <th>taster_twitter_handle</th>\n",
       "      <th>title</th>\n",
       "      <th>variety</th>\n",
       "      <th>winery</th>\n",
       "    </tr>\n",
       "  </thead>\n",
       "  <tbody>\n",
       "    <tr>\n",
       "      <th>0</th>\n",
       "      <td>Italy</td>\n",
       "      <td>Aromas include tropical fruit, broom, brimston...</td>\n",
       "      <td>Vulkà Bianco</td>\n",
       "      <td>87</td>\n",
       "      <td>NaN</td>\n",
       "      <td>Sicily &amp; Sardinia</td>\n",
       "      <td>Etna</td>\n",
       "      <td>NaN</td>\n",
       "      <td>Kerin O’Keefe</td>\n",
       "      <td>@kerinokeefe</td>\n",
       "      <td>Nicosia 2013 Vulkà Bianco  (Etna)</td>\n",
       "      <td>White Blend</td>\n",
       "      <td>Nicosia</td>\n",
       "    </tr>\n",
       "    <tr>\n",
       "      <th>1</th>\n",
       "      <td>Portugal</td>\n",
       "      <td>This is ripe and fruity, a wine that is smooth...</td>\n",
       "      <td>Avidagos</td>\n",
       "      <td>87</td>\n",
       "      <td>15.0</td>\n",
       "      <td>Douro</td>\n",
       "      <td>NaN</td>\n",
       "      <td>NaN</td>\n",
       "      <td>Roger Voss</td>\n",
       "      <td>@vossroger</td>\n",
       "      <td>Quinta dos Avidagos 2011 Avidagos Red (Douro)</td>\n",
       "      <td>Portuguese Red</td>\n",
       "      <td>Quinta dos Avidagos</td>\n",
       "    </tr>\n",
       "    <tr>\n",
       "      <th>2</th>\n",
       "      <td>US</td>\n",
       "      <td>Tart and snappy, the flavors of lime flesh and...</td>\n",
       "      <td>NaN</td>\n",
       "      <td>87</td>\n",
       "      <td>14.0</td>\n",
       "      <td>Oregon</td>\n",
       "      <td>Willamette Valley</td>\n",
       "      <td>Willamette Valley</td>\n",
       "      <td>Paul Gregutt</td>\n",
       "      <td>@paulgwine</td>\n",
       "      <td>Rainstorm 2013 Pinot Gris (Willamette Valley)</td>\n",
       "      <td>Pinot Gris</td>\n",
       "      <td>Rainstorm</td>\n",
       "    </tr>\n",
       "    <tr>\n",
       "      <th>3</th>\n",
       "      <td>US</td>\n",
       "      <td>Pineapple rind, lemon pith and orange blossom ...</td>\n",
       "      <td>Reserve Late Harvest</td>\n",
       "      <td>87</td>\n",
       "      <td>13.0</td>\n",
       "      <td>Michigan</td>\n",
       "      <td>Lake Michigan Shore</td>\n",
       "      <td>NaN</td>\n",
       "      <td>Alexander Peartree</td>\n",
       "      <td>NaN</td>\n",
       "      <td>St. Julian 2013 Reserve Late Harvest Riesling ...</td>\n",
       "      <td>Riesling</td>\n",
       "      <td>St. Julian</td>\n",
       "    </tr>\n",
       "    <tr>\n",
       "      <th>4</th>\n",
       "      <td>US</td>\n",
       "      <td>Much like the regular bottling from 2012, this...</td>\n",
       "      <td>Vintner's Reserve Wild Child Block</td>\n",
       "      <td>87</td>\n",
       "      <td>65.0</td>\n",
       "      <td>Oregon</td>\n",
       "      <td>Willamette Valley</td>\n",
       "      <td>Willamette Valley</td>\n",
       "      <td>Paul Gregutt</td>\n",
       "      <td>@paulgwine</td>\n",
       "      <td>Sweet Cheeks 2012 Vintner's Reserve Wild Child...</td>\n",
       "      <td>Pinot Noir</td>\n",
       "      <td>Sweet Cheeks</td>\n",
       "    </tr>\n",
       "  </tbody>\n",
       "</table>\n",
       "</div>"
      ],
      "text/plain": [
       "    country                                        description  \\\n",
       "0     Italy  Aromas include tropical fruit, broom, brimston...   \n",
       "1  Portugal  This is ripe and fruity, a wine that is smooth...   \n",
       "2        US  Tart and snappy, the flavors of lime flesh and...   \n",
       "3        US  Pineapple rind, lemon pith and orange blossom ...   \n",
       "4        US  Much like the regular bottling from 2012, this...   \n",
       "\n",
       "                          designation  points  price           province  \\\n",
       "0                        Vulkà Bianco      87    NaN  Sicily & Sardinia   \n",
       "1                            Avidagos      87   15.0              Douro   \n",
       "2                                 NaN      87   14.0             Oregon   \n",
       "3                Reserve Late Harvest      87   13.0           Michigan   \n",
       "4  Vintner's Reserve Wild Child Block      87   65.0             Oregon   \n",
       "\n",
       "              region_1           region_2         taster_name  \\\n",
       "0                 Etna                NaN       Kerin O’Keefe   \n",
       "1                  NaN                NaN          Roger Voss   \n",
       "2    Willamette Valley  Willamette Valley        Paul Gregutt   \n",
       "3  Lake Michigan Shore                NaN  Alexander Peartree   \n",
       "4    Willamette Valley  Willamette Valley        Paul Gregutt   \n",
       "\n",
       "  taster_twitter_handle                                              title  \\\n",
       "0          @kerinokeefe                  Nicosia 2013 Vulkà Bianco  (Etna)   \n",
       "1            @vossroger      Quinta dos Avidagos 2011 Avidagos Red (Douro)   \n",
       "2           @paulgwine       Rainstorm 2013 Pinot Gris (Willamette Valley)   \n",
       "3                   NaN  St. Julian 2013 Reserve Late Harvest Riesling ...   \n",
       "4           @paulgwine   Sweet Cheeks 2012 Vintner's Reserve Wild Child...   \n",
       "\n",
       "          variety               winery  \n",
       "0     White Blend              Nicosia  \n",
       "1  Portuguese Red  Quinta dos Avidagos  \n",
       "2      Pinot Gris            Rainstorm  \n",
       "3        Riesling           St. Julian  \n",
       "4      Pinot Noir         Sweet Cheeks  "
      ]
     },
     "execution_count": 2,
     "metadata": {},
     "output_type": "execute_result"
    }
   ],
   "source": [
    "reviews.head()"
   ]
  },
  {
   "cell_type": "markdown",
   "id": "496b5702",
   "metadata": {
    "papermill": {
     "duration": 0.005944,
     "end_time": "2023-05-07T07:05:38.004780",
     "exception": false,
     "start_time": "2023-05-07T07:05:37.998836",
     "status": "completed"
    },
    "tags": []
   },
   "source": [
    "## 1.\n",
    "`region_1` and `region_2` are pretty uninformative names for locale columns in the dataset. Create a copy of `reviews` with these columns renamed to `region` and `locale`, respectively."
   ]
  },
  {
   "cell_type": "code",
   "execution_count": 3,
   "id": "2eb03766",
   "metadata": {
    "execution": {
     "iopub.execute_input": "2023-05-07T07:05:38.018976Z",
     "iopub.status.busy": "2023-05-07T07:05:38.018536Z",
     "iopub.status.idle": "2023-05-07T07:05:38.040849Z",
     "shell.execute_reply": "2023-05-07T07:05:38.039608Z"
    },
    "papermill": {
     "duration": 0.032382,
     "end_time": "2023-05-07T07:05:38.043372",
     "exception": false,
     "start_time": "2023-05-07T07:05:38.010990",
     "status": "completed"
    },
    "tags": []
   },
   "outputs": [
    {
     "data": {
      "application/javascript": [
       "parent.postMessage({\"jupyterEvent\": \"custom.exercise_interaction\", \"data\": {\"outcomeType\": 1, \"valueTowardsCompletion\": 0.25, \"interactionType\": 1, \"questionType\": 1, \"questionId\": \"1_RenameCols\", \"learnToolsVersion\": \"0.3.4\", \"failureMessage\": \"\", \"exceptionClass\": \"\", \"trace\": \"\"}}, \"*\")"
      ],
      "text/plain": [
       "<IPython.core.display.Javascript object>"
      ]
     },
     "metadata": {},
     "output_type": "display_data"
    },
    {
     "data": {
      "text/markdown": [
       "<span style=\"color:#33cc33\">Correct</span>"
      ],
      "text/plain": [
       "Correct"
      ]
     },
     "metadata": {},
     "output_type": "display_data"
    }
   ],
   "source": [
    "# Your code here\n",
    "renamed = reviews.rename(columns={'region_1':'region','region_2':'locale'})\n",
    "\n",
    "# Check your answer\n",
    "q1.check()"
   ]
  },
  {
   "cell_type": "code",
   "execution_count": 4,
   "id": "e99501e2",
   "metadata": {
    "execution": {
     "iopub.execute_input": "2023-05-07T07:05:38.057733Z",
     "iopub.status.busy": "2023-05-07T07:05:38.057328Z",
     "iopub.status.idle": "2023-05-07T07:05:38.062359Z",
     "shell.execute_reply": "2023-05-07T07:05:38.061011Z"
    },
    "papermill": {
     "duration": 0.015008,
     "end_time": "2023-05-07T07:05:38.064680",
     "exception": false,
     "start_time": "2023-05-07T07:05:38.049672",
     "status": "completed"
    },
    "tags": []
   },
   "outputs": [],
   "source": [
    "#q1.hint()\n",
    "#q1.solution()"
   ]
  },
  {
   "cell_type": "markdown",
   "id": "bc4034f5",
   "metadata": {
    "papermill": {
     "duration": 0.00596,
     "end_time": "2023-05-07T07:05:38.076999",
     "exception": false,
     "start_time": "2023-05-07T07:05:38.071039",
     "status": "completed"
    },
    "tags": []
   },
   "source": [
    "## 2.\n",
    "Set the index name in the dataset to `wines`."
   ]
  },
  {
   "cell_type": "code",
   "execution_count": null,
   "id": "a3715754",
   "metadata": {
    "papermill": {
     "duration": 0.005982,
     "end_time": "2023-05-07T07:05:38.089288",
     "exception": false,
     "start_time": "2023-05-07T07:05:38.083306",
     "status": "completed"
    },
    "tags": []
   },
   "outputs": [],
   "source": []
  },
  {
   "cell_type": "code",
   "execution_count": 5,
   "id": "4030d0b9",
   "metadata": {
    "execution": {
     "iopub.execute_input": "2023-05-07T07:05:38.104124Z",
     "iopub.status.busy": "2023-05-07T07:05:38.103070Z",
     "iopub.status.idle": "2023-05-07T07:05:38.124511Z",
     "shell.execute_reply": "2023-05-07T07:05:38.123370Z"
    },
    "papermill": {
     "duration": 0.0314,
     "end_time": "2023-05-07T07:05:38.126881",
     "exception": false,
     "start_time": "2023-05-07T07:05:38.095481",
     "status": "completed"
    },
    "tags": []
   },
   "outputs": [
    {
     "data": {
      "application/javascript": [
       "parent.postMessage({\"jupyterEvent\": \"custom.exercise_interaction\", \"data\": {\"outcomeType\": 1, \"valueTowardsCompletion\": 0.25, \"interactionType\": 1, \"questionType\": 1, \"questionId\": \"2_RenameIndex\", \"learnToolsVersion\": \"0.3.4\", \"failureMessage\": \"\", \"exceptionClass\": \"\", \"trace\": \"\"}}, \"*\")"
      ],
      "text/plain": [
       "<IPython.core.display.Javascript object>"
      ]
     },
     "metadata": {},
     "output_type": "display_data"
    },
    {
     "data": {
      "text/markdown": [
       "<span style=\"color:#33cc33\">Correct</span>"
      ],
      "text/plain": [
       "Correct"
      ]
     },
     "metadata": {},
     "output_type": "display_data"
    }
   ],
   "source": [
    "reindexed=reviews.rename_axis(\"wines\", axis='rows')\n",
    "\n",
    "# Check your answer\n",
    "q2.check()"
   ]
  },
  {
   "cell_type": "code",
   "execution_count": 6,
   "id": "74585db5",
   "metadata": {
    "execution": {
     "iopub.execute_input": "2023-05-07T07:05:38.141811Z",
     "iopub.status.busy": "2023-05-07T07:05:38.141287Z",
     "iopub.status.idle": "2023-05-07T07:05:38.145779Z",
     "shell.execute_reply": "2023-05-07T07:05:38.144727Z"
    },
    "papermill": {
     "duration": 0.014373,
     "end_time": "2023-05-07T07:05:38.147776",
     "exception": false,
     "start_time": "2023-05-07T07:05:38.133403",
     "status": "completed"
    },
    "tags": []
   },
   "outputs": [],
   "source": [
    "#q2.hint()\n",
    "#q2.solution()"
   ]
  },
  {
   "cell_type": "markdown",
   "id": "43864ad6",
   "metadata": {
    "papermill": {
     "duration": 0.006148,
     "end_time": "2023-05-07T07:05:38.160398",
     "exception": false,
     "start_time": "2023-05-07T07:05:38.154250",
     "status": "completed"
    },
    "tags": []
   },
   "source": [
    "## 3.\n",
    "The [Things on Reddit](https://www.kaggle.com/residentmario/things-on-reddit/data) dataset includes product links from a selection of top-ranked forums (\"subreddits\") on reddit.com. Run the cell below to load a dataframe of products mentioned on the */r/gaming* subreddit and another dataframe for products mentioned on the *r//movies* subreddit."
   ]
  },
  {
   "cell_type": "code",
   "execution_count": 7,
   "id": "3d2454f3",
   "metadata": {
    "execution": {
     "iopub.execute_input": "2023-05-07T07:05:38.175997Z",
     "iopub.status.busy": "2023-05-07T07:05:38.174827Z",
     "iopub.status.idle": "2023-05-07T07:05:38.191143Z",
     "shell.execute_reply": "2023-05-07T07:05:38.190137Z"
    },
    "papermill": {
     "duration": 0.026492,
     "end_time": "2023-05-07T07:05:38.193524",
     "exception": false,
     "start_time": "2023-05-07T07:05:38.167032",
     "status": "completed"
    },
    "tags": []
   },
   "outputs": [],
   "source": [
    "gaming_products = pd.read_csv(\"../input/things-on-reddit/top-things/top-things/reddits/g/gaming.csv\")\n",
    "gaming_products['subreddit'] = \"r/gaming\"\n",
    "movie_products = pd.read_csv(\"../input/things-on-reddit/top-things/top-things/reddits/m/movies.csv\")\n",
    "movie_products['subreddit'] = \"r/movies\""
   ]
  },
  {
   "cell_type": "markdown",
   "id": "db07ac7f",
   "metadata": {
    "papermill": {
     "duration": 0.006179,
     "end_time": "2023-05-07T07:05:38.206458",
     "exception": false,
     "start_time": "2023-05-07T07:05:38.200279",
     "status": "completed"
    },
    "tags": []
   },
   "source": [
    "Create a `DataFrame` of products mentioned on *either* subreddit."
   ]
  },
  {
   "cell_type": "code",
   "execution_count": 8,
   "id": "53ad3a72",
   "metadata": {
    "execution": {
     "iopub.execute_input": "2023-05-07T07:05:38.221569Z",
     "iopub.status.busy": "2023-05-07T07:05:38.220915Z",
     "iopub.status.idle": "2023-05-07T07:05:38.231407Z",
     "shell.execute_reply": "2023-05-07T07:05:38.230711Z"
    },
    "papermill": {
     "duration": 0.020412,
     "end_time": "2023-05-07T07:05:38.233427",
     "exception": false,
     "start_time": "2023-05-07T07:05:38.213015",
     "status": "completed"
    },
    "tags": []
   },
   "outputs": [
    {
     "data": {
      "application/javascript": [
       "parent.postMessage({\"jupyterEvent\": \"custom.exercise_interaction\", \"data\": {\"outcomeType\": 1, \"valueTowardsCompletion\": 0.25, \"interactionType\": 1, \"questionType\": 2, \"questionId\": \"3_ConcatReddit\", \"learnToolsVersion\": \"0.3.4\", \"failureMessage\": \"\", \"exceptionClass\": \"\", \"trace\": \"\"}}, \"*\")"
      ],
      "text/plain": [
       "<IPython.core.display.Javascript object>"
      ]
     },
     "metadata": {},
     "output_type": "display_data"
    },
    {
     "data": {
      "text/markdown": [
       "<span style=\"color:#33cc33\">Correct</span>"
      ],
      "text/plain": [
       "Correct"
      ]
     },
     "metadata": {},
     "output_type": "display_data"
    }
   ],
   "source": [
    "combined_products = pd.concat([gaming_products,movie_products])\n",
    "\n",
    "# Check your answer\n",
    "q3.check()"
   ]
  },
  {
   "cell_type": "code",
   "execution_count": 9,
   "id": "5c326086",
   "metadata": {
    "execution": {
     "iopub.execute_input": "2023-05-07T07:05:38.248853Z",
     "iopub.status.busy": "2023-05-07T07:05:38.248425Z",
     "iopub.status.idle": "2023-05-07T07:05:38.252247Z",
     "shell.execute_reply": "2023-05-07T07:05:38.251450Z"
    },
    "papermill": {
     "duration": 0.014066,
     "end_time": "2023-05-07T07:05:38.254255",
     "exception": false,
     "start_time": "2023-05-07T07:05:38.240189",
     "status": "completed"
    },
    "tags": []
   },
   "outputs": [],
   "source": [
    "#q3.hint()\n",
    "#q3.solution()"
   ]
  },
  {
   "cell_type": "markdown",
   "id": "c98a3131",
   "metadata": {
    "papermill": {
     "duration": 0.00649,
     "end_time": "2023-05-07T07:05:38.267709",
     "exception": false,
     "start_time": "2023-05-07T07:05:38.261219",
     "status": "completed"
    },
    "tags": []
   },
   "source": [
    "## 4.\n",
    "The [Powerlifting Database](https://www.kaggle.com/open-powerlifting/powerlifting-database) dataset on Kaggle includes one CSV table for powerlifting meets and a separate one for powerlifting competitors. Run the cell below to load these datasets into dataframes:"
   ]
  },
  {
   "cell_type": "code",
   "execution_count": 10,
   "id": "de017052",
   "metadata": {
    "execution": {
     "iopub.execute_input": "2023-05-07T07:05:38.283570Z",
     "iopub.status.busy": "2023-05-07T07:05:38.282713Z",
     "iopub.status.idle": "2023-05-07T07:05:39.088628Z",
     "shell.execute_reply": "2023-05-07T07:05:39.087274Z"
    },
    "papermill": {
     "duration": 0.81661,
     "end_time": "2023-05-07T07:05:39.091339",
     "exception": false,
     "start_time": "2023-05-07T07:05:38.274729",
     "status": "completed"
    },
    "tags": []
   },
   "outputs": [],
   "source": [
    "powerlifting_meets = pd.read_csv(\"../input/powerlifting-database/meets.csv\")\n",
    "powerlifting_competitors = pd.read_csv(\"../input/powerlifting-database/openpowerlifting.csv\")"
   ]
  },
  {
   "cell_type": "code",
   "execution_count": 11,
   "id": "7641953b",
   "metadata": {
    "execution": {
     "iopub.execute_input": "2023-05-07T07:05:39.108528Z",
     "iopub.status.busy": "2023-05-07T07:05:39.108087Z",
     "iopub.status.idle": "2023-05-07T07:05:39.121138Z",
     "shell.execute_reply": "2023-05-07T07:05:39.120274Z"
    },
    "papermill": {
     "duration": 0.024361,
     "end_time": "2023-05-07T07:05:39.123217",
     "exception": false,
     "start_time": "2023-05-07T07:05:39.098856",
     "status": "completed"
    },
    "tags": []
   },
   "outputs": [
    {
     "data": {
      "text/html": [
       "<div>\n",
       "<style scoped>\n",
       "    .dataframe tbody tr th:only-of-type {\n",
       "        vertical-align: middle;\n",
       "    }\n",
       "\n",
       "    .dataframe tbody tr th {\n",
       "        vertical-align: top;\n",
       "    }\n",
       "\n",
       "    .dataframe thead th {\n",
       "        text-align: right;\n",
       "    }\n",
       "</style>\n",
       "<table border=\"1\" class=\"dataframe\">\n",
       "  <thead>\n",
       "    <tr style=\"text-align: right;\">\n",
       "      <th></th>\n",
       "      <th>MeetID</th>\n",
       "      <th>MeetPath</th>\n",
       "      <th>Federation</th>\n",
       "      <th>Date</th>\n",
       "      <th>MeetCountry</th>\n",
       "      <th>MeetState</th>\n",
       "      <th>MeetTown</th>\n",
       "      <th>MeetName</th>\n",
       "    </tr>\n",
       "  </thead>\n",
       "  <tbody>\n",
       "    <tr>\n",
       "      <th>0</th>\n",
       "      <td>0</td>\n",
       "      <td>365strong/1601</td>\n",
       "      <td>365Strong</td>\n",
       "      <td>2016-10-29</td>\n",
       "      <td>USA</td>\n",
       "      <td>NC</td>\n",
       "      <td>Charlotte</td>\n",
       "      <td>2016 Junior &amp; Senior National Powerlifting Cha...</td>\n",
       "    </tr>\n",
       "    <tr>\n",
       "      <th>1</th>\n",
       "      <td>1</td>\n",
       "      <td>365strong/1602</td>\n",
       "      <td>365Strong</td>\n",
       "      <td>2016-11-19</td>\n",
       "      <td>USA</td>\n",
       "      <td>MO</td>\n",
       "      <td>Ozark</td>\n",
       "      <td>Thanksgiving Powerlifting Classic</td>\n",
       "    </tr>\n",
       "    <tr>\n",
       "      <th>2</th>\n",
       "      <td>2</td>\n",
       "      <td>365strong/1603</td>\n",
       "      <td>365Strong</td>\n",
       "      <td>2016-07-09</td>\n",
       "      <td>USA</td>\n",
       "      <td>NC</td>\n",
       "      <td>Charlotte</td>\n",
       "      <td>Charlotte Europa Games</td>\n",
       "    </tr>\n",
       "    <tr>\n",
       "      <th>3</th>\n",
       "      <td>3</td>\n",
       "      <td>365strong/1604</td>\n",
       "      <td>365Strong</td>\n",
       "      <td>2016-06-11</td>\n",
       "      <td>USA</td>\n",
       "      <td>SC</td>\n",
       "      <td>Rock Hill</td>\n",
       "      <td>Carolina Cup Push Pull Challenge</td>\n",
       "    </tr>\n",
       "    <tr>\n",
       "      <th>4</th>\n",
       "      <td>4</td>\n",
       "      <td>365strong/1605</td>\n",
       "      <td>365Strong</td>\n",
       "      <td>2016-04-10</td>\n",
       "      <td>USA</td>\n",
       "      <td>SC</td>\n",
       "      <td>Rock Hill</td>\n",
       "      <td>Eastern USA Challenge</td>\n",
       "    </tr>\n",
       "  </tbody>\n",
       "</table>\n",
       "</div>"
      ],
      "text/plain": [
       "   MeetID        MeetPath Federation        Date MeetCountry MeetState  \\\n",
       "0       0  365strong/1601  365Strong  2016-10-29         USA        NC   \n",
       "1       1  365strong/1602  365Strong  2016-11-19         USA        MO   \n",
       "2       2  365strong/1603  365Strong  2016-07-09         USA        NC   \n",
       "3       3  365strong/1604  365Strong  2016-06-11         USA        SC   \n",
       "4       4  365strong/1605  365Strong  2016-04-10         USA        SC   \n",
       "\n",
       "    MeetTown                                           MeetName  \n",
       "0  Charlotte  2016 Junior & Senior National Powerlifting Cha...  \n",
       "1      Ozark                  Thanksgiving Powerlifting Classic  \n",
       "2  Charlotte                             Charlotte Europa Games  \n",
       "3  Rock Hill                   Carolina Cup Push Pull Challenge  \n",
       "4  Rock Hill                              Eastern USA Challenge  "
      ]
     },
     "execution_count": 11,
     "metadata": {},
     "output_type": "execute_result"
    }
   ],
   "source": [
    "powerlifting_meets.head()"
   ]
  },
  {
   "cell_type": "code",
   "execution_count": 12,
   "id": "d0e4513b",
   "metadata": {
    "execution": {
     "iopub.execute_input": "2023-05-07T07:05:39.139702Z",
     "iopub.status.busy": "2023-05-07T07:05:39.139053Z",
     "iopub.status.idle": "2023-05-07T07:05:39.161057Z",
     "shell.execute_reply": "2023-05-07T07:05:39.159868Z"
    },
    "papermill": {
     "duration": 0.032817,
     "end_time": "2023-05-07T07:05:39.163512",
     "exception": false,
     "start_time": "2023-05-07T07:05:39.130695",
     "status": "completed"
    },
    "tags": []
   },
   "outputs": [
    {
     "data": {
      "text/html": [
       "<div>\n",
       "<style scoped>\n",
       "    .dataframe tbody tr th:only-of-type {\n",
       "        vertical-align: middle;\n",
       "    }\n",
       "\n",
       "    .dataframe tbody tr th {\n",
       "        vertical-align: top;\n",
       "    }\n",
       "\n",
       "    .dataframe thead th {\n",
       "        text-align: right;\n",
       "    }\n",
       "</style>\n",
       "<table border=\"1\" class=\"dataframe\">\n",
       "  <thead>\n",
       "    <tr style=\"text-align: right;\">\n",
       "      <th></th>\n",
       "      <th>MeetID</th>\n",
       "      <th>Name</th>\n",
       "      <th>Sex</th>\n",
       "      <th>Equipment</th>\n",
       "      <th>Age</th>\n",
       "      <th>Division</th>\n",
       "      <th>BodyweightKg</th>\n",
       "      <th>WeightClassKg</th>\n",
       "      <th>Squat4Kg</th>\n",
       "      <th>BestSquatKg</th>\n",
       "      <th>Bench4Kg</th>\n",
       "      <th>BestBenchKg</th>\n",
       "      <th>Deadlift4Kg</th>\n",
       "      <th>BestDeadliftKg</th>\n",
       "      <th>TotalKg</th>\n",
       "      <th>Place</th>\n",
       "      <th>Wilks</th>\n",
       "    </tr>\n",
       "  </thead>\n",
       "  <tbody>\n",
       "    <tr>\n",
       "      <th>0</th>\n",
       "      <td>0</td>\n",
       "      <td>Angie Belk Terry</td>\n",
       "      <td>F</td>\n",
       "      <td>Wraps</td>\n",
       "      <td>47.0</td>\n",
       "      <td>Mst 45-49</td>\n",
       "      <td>59.60</td>\n",
       "      <td>60</td>\n",
       "      <td>NaN</td>\n",
       "      <td>47.63</td>\n",
       "      <td>NaN</td>\n",
       "      <td>20.41</td>\n",
       "      <td>NaN</td>\n",
       "      <td>70.31</td>\n",
       "      <td>138.35</td>\n",
       "      <td>1</td>\n",
       "      <td>155.05</td>\n",
       "    </tr>\n",
       "    <tr>\n",
       "      <th>1</th>\n",
       "      <td>0</td>\n",
       "      <td>Dawn Bogart</td>\n",
       "      <td>F</td>\n",
       "      <td>Single-ply</td>\n",
       "      <td>42.0</td>\n",
       "      <td>Mst 40-44</td>\n",
       "      <td>58.51</td>\n",
       "      <td>60</td>\n",
       "      <td>NaN</td>\n",
       "      <td>142.88</td>\n",
       "      <td>NaN</td>\n",
       "      <td>95.25</td>\n",
       "      <td>NaN</td>\n",
       "      <td>163.29</td>\n",
       "      <td>401.42</td>\n",
       "      <td>1</td>\n",
       "      <td>456.38</td>\n",
       "    </tr>\n",
       "    <tr>\n",
       "      <th>2</th>\n",
       "      <td>0</td>\n",
       "      <td>Dawn Bogart</td>\n",
       "      <td>F</td>\n",
       "      <td>Single-ply</td>\n",
       "      <td>42.0</td>\n",
       "      <td>Open Senior</td>\n",
       "      <td>58.51</td>\n",
       "      <td>60</td>\n",
       "      <td>NaN</td>\n",
       "      <td>142.88</td>\n",
       "      <td>NaN</td>\n",
       "      <td>95.25</td>\n",
       "      <td>NaN</td>\n",
       "      <td>163.29</td>\n",
       "      <td>401.42</td>\n",
       "      <td>1</td>\n",
       "      <td>456.38</td>\n",
       "    </tr>\n",
       "    <tr>\n",
       "      <th>3</th>\n",
       "      <td>0</td>\n",
       "      <td>Dawn Bogart</td>\n",
       "      <td>F</td>\n",
       "      <td>Raw</td>\n",
       "      <td>42.0</td>\n",
       "      <td>Open Senior</td>\n",
       "      <td>58.51</td>\n",
       "      <td>60</td>\n",
       "      <td>NaN</td>\n",
       "      <td>NaN</td>\n",
       "      <td>NaN</td>\n",
       "      <td>95.25</td>\n",
       "      <td>NaN</td>\n",
       "      <td>NaN</td>\n",
       "      <td>95.25</td>\n",
       "      <td>1</td>\n",
       "      <td>108.29</td>\n",
       "    </tr>\n",
       "    <tr>\n",
       "      <th>4</th>\n",
       "      <td>0</td>\n",
       "      <td>Destiny Dula</td>\n",
       "      <td>F</td>\n",
       "      <td>Raw</td>\n",
       "      <td>18.0</td>\n",
       "      <td>Teen 18-19</td>\n",
       "      <td>63.68</td>\n",
       "      <td>67.5</td>\n",
       "      <td>NaN</td>\n",
       "      <td>NaN</td>\n",
       "      <td>NaN</td>\n",
       "      <td>31.75</td>\n",
       "      <td>NaN</td>\n",
       "      <td>90.72</td>\n",
       "      <td>122.47</td>\n",
       "      <td>1</td>\n",
       "      <td>130.47</td>\n",
       "    </tr>\n",
       "  </tbody>\n",
       "</table>\n",
       "</div>"
      ],
      "text/plain": [
       "   MeetID              Name Sex   Equipment   Age     Division  BodyweightKg  \\\n",
       "0       0  Angie Belk Terry   F       Wraps  47.0    Mst 45-49         59.60   \n",
       "1       0       Dawn Bogart   F  Single-ply  42.0    Mst 40-44         58.51   \n",
       "2       0       Dawn Bogart   F  Single-ply  42.0  Open Senior         58.51   \n",
       "3       0       Dawn Bogart   F         Raw  42.0  Open Senior         58.51   \n",
       "4       0      Destiny Dula   F         Raw  18.0   Teen 18-19         63.68   \n",
       "\n",
       "  WeightClassKg  Squat4Kg  BestSquatKg  Bench4Kg  BestBenchKg  Deadlift4Kg  \\\n",
       "0            60       NaN        47.63       NaN        20.41          NaN   \n",
       "1            60       NaN       142.88       NaN        95.25          NaN   \n",
       "2            60       NaN       142.88       NaN        95.25          NaN   \n",
       "3            60       NaN          NaN       NaN        95.25          NaN   \n",
       "4          67.5       NaN          NaN       NaN        31.75          NaN   \n",
       "\n",
       "   BestDeadliftKg  TotalKg Place   Wilks  \n",
       "0           70.31   138.35     1  155.05  \n",
       "1          163.29   401.42     1  456.38  \n",
       "2          163.29   401.42     1  456.38  \n",
       "3             NaN    95.25     1  108.29  \n",
       "4           90.72   122.47     1  130.47  "
      ]
     },
     "execution_count": 12,
     "metadata": {},
     "output_type": "execute_result"
    }
   ],
   "source": [
    "powerlifting_competitors.head()"
   ]
  },
  {
   "cell_type": "markdown",
   "id": "d4d90eed",
   "metadata": {
    "papermill": {
     "duration": 0.006985,
     "end_time": "2023-05-07T07:05:39.177941",
     "exception": false,
     "start_time": "2023-05-07T07:05:39.170956",
     "status": "completed"
    },
    "tags": []
   },
   "source": [
    "Both tables include references to a `MeetID`, a unique key for each meet (competition) included in the database. Using this, generate a dataset combining the two tables into one."
   ]
  },
  {
   "cell_type": "code",
   "execution_count": 13,
   "id": "e68c84bb",
   "metadata": {
    "execution": {
     "iopub.execute_input": "2023-05-07T07:05:39.194876Z",
     "iopub.status.busy": "2023-05-07T07:05:39.193732Z",
     "iopub.status.idle": "2023-05-07T07:05:40.349909Z",
     "shell.execute_reply": "2023-05-07T07:05:40.348851Z"
    },
    "papermill": {
     "duration": 1.167453,
     "end_time": "2023-05-07T07:05:40.352687",
     "exception": false,
     "start_time": "2023-05-07T07:05:39.185234",
     "status": "completed"
    },
    "tags": []
   },
   "outputs": [
    {
     "data": {
      "application/javascript": [
       "parent.postMessage({\"jupyterEvent\": \"custom.exercise_interaction\", \"data\": {\"outcomeType\": 1, \"valueTowardsCompletion\": 0.25, \"interactionType\": 1, \"questionType\": 2, \"questionId\": \"4_JoinLifting\", \"learnToolsVersion\": \"0.3.4\", \"failureMessage\": \"\", \"exceptionClass\": \"\", \"trace\": \"\"}}, \"*\")"
      ],
      "text/plain": [
       "<IPython.core.display.Javascript object>"
      ]
     },
     "metadata": {},
     "output_type": "display_data"
    },
    {
     "data": {
      "text/markdown": [
       "<span style=\"color:#33cc33\">Correct</span>"
      ],
      "text/plain": [
       "Correct"
      ]
     },
     "metadata": {},
     "output_type": "display_data"
    }
   ],
   "source": [
    "powerlifting_combined = powerlifting_meets.set_index(\"MeetID\").join(powerlifting_competitors.set_index(\"MeetID\"))\n",
    "\n",
    "# Check your answer\n",
    "q4.check()"
   ]
  },
  {
   "cell_type": "code",
   "execution_count": 14,
   "id": "c9de6e16",
   "metadata": {
    "execution": {
     "iopub.execute_input": "2023-05-07T07:05:40.369856Z",
     "iopub.status.busy": "2023-05-07T07:05:40.369079Z",
     "iopub.status.idle": "2023-05-07T07:05:40.373446Z",
     "shell.execute_reply": "2023-05-07T07:05:40.372663Z"
    },
    "papermill": {
     "duration": 0.015099,
     "end_time": "2023-05-07T07:05:40.375454",
     "exception": false,
     "start_time": "2023-05-07T07:05:40.360355",
     "status": "completed"
    },
    "tags": []
   },
   "outputs": [],
   "source": [
    "#q4.hint()\n",
    "#q4.solution()"
   ]
  },
  {
   "cell_type": "markdown",
   "id": "544cc797",
   "metadata": {
    "papermill": {
     "duration": 0.0072,
     "end_time": "2023-05-07T07:05:40.390454",
     "exception": false,
     "start_time": "2023-05-07T07:05:40.383254",
     "status": "completed"
    },
    "tags": []
   },
   "source": [
    "# Congratulations!\n",
    "\n",
    "You've finished the Pandas micro-course.  Many data scientists feel efficiency with Pandas is the most useful and practical skill they have, because it allows you to progress quickly in any project you have.\n",
    "\n",
    "If you'd like to apply your new skills to examining geospatial data, you're encouraged to check out our **[Geospatial Analysis](https://www.kaggle.com/learn/geospatial-analysis)** micro-course.\n",
    "\n",
    "You can also take advantage of your Pandas skills by entering a **[Kaggle Competition](https://www.kaggle.com/competitions)** or by answering a question you find interesting using **[Kaggle Datasets](https://www.kaggle.com/datasets)**."
   ]
  },
  {
   "cell_type": "markdown",
   "id": "f99ef779",
   "metadata": {
    "papermill": {
     "duration": 0.007133,
     "end_time": "2023-05-07T07:05:40.405283",
     "exception": false,
     "start_time": "2023-05-07T07:05:40.398150",
     "status": "completed"
    },
    "tags": []
   },
   "source": [
    "---\n",
    "\n",
    "\n",
    "\n",
    "\n",
    "*Have questions or comments? Visit the [course discussion forum](https://www.kaggle.com/learn/pandas/discussion) to chat with other learners.*"
   ]
  }
 ],
 "metadata": {
  "kernelspec": {
   "display_name": "Python 3",
   "language": "python",
   "name": "python3"
  },
  "language_info": {
   "codemirror_mode": {
    "name": "ipython",
    "version": 3
   },
   "file_extension": ".py",
   "mimetype": "text/x-python",
   "name": "python",
   "nbconvert_exporter": "python",
   "pygments_lexer": "ipython3",
   "version": "3.10.10"
  },
  "papermill": {
   "default_parameters": {},
   "duration": 19.211346,
   "end_time": "2023-05-07T07:05:41.435844",
   "environment_variables": {},
   "exception": null,
   "input_path": "__notebook__.ipynb",
   "output_path": "__notebook__.ipynb",
   "parameters": {},
   "start_time": "2023-05-07T07:05:22.224498",
   "version": "2.4.0"
  }
 },
 "nbformat": 4,
 "nbformat_minor": 5
}
