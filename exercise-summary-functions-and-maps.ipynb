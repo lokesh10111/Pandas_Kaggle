{
 "cells": [
  {
   "cell_type": "markdown",
   "id": "af9fe184",
   "metadata": {
    "papermill": {
     "duration": 0.006212,
     "end_time": "2023-05-07T05:46:18.914453",
     "exception": false,
     "start_time": "2023-05-07T05:46:18.908241",
     "status": "completed"
    },
    "tags": []
   },
   "source": [
    "**This notebook is an exercise in the [Pandas](https://www.kaggle.com/learn/pandas) course.  You can reference the tutorial at [this link](https://www.kaggle.com/residentmario/summary-functions-and-maps).**\n",
    "\n",
    "---\n"
   ]
  },
  {
   "cell_type": "markdown",
   "id": "87b750b9",
   "metadata": {
    "papermill": {
     "duration": 0.005879,
     "end_time": "2023-05-07T05:46:18.926221",
     "exception": false,
     "start_time": "2023-05-07T05:46:18.920342",
     "status": "completed"
    },
    "tags": []
   },
   "source": [
    "# Introduction\n",
    "\n",
    "Now you are ready to get a deeper understanding of your data.\n",
    "\n",
    "Run the following cell to load your data and some utility functions (including code to check your answers)."
   ]
  },
  {
   "cell_type": "code",
   "execution_count": 1,
   "id": "35292659",
   "metadata": {
    "execution": {
     "iopub.execute_input": "2023-05-07T05:46:18.939276Z",
     "iopub.status.busy": "2023-05-07T05:46:18.938887Z",
     "iopub.status.idle": "2023-05-07T05:46:25.576909Z",
     "shell.execute_reply": "2023-05-07T05:46:25.575328Z"
    },
    "papermill": {
     "duration": 6.647342,
     "end_time": "2023-05-07T05:46:25.579234",
     "exception": false,
     "start_time": "2023-05-07T05:46:18.931892",
     "status": "completed"
    },
    "tags": []
   },
   "outputs": [
    {
     "name": "stdout",
     "output_type": "stream",
     "text": [
      "Setup complete.\n"
     ]
    },
    {
     "data": {
      "text/html": [
       "<div>\n",
       "<style scoped>\n",
       "    .dataframe tbody tr th:only-of-type {\n",
       "        vertical-align: middle;\n",
       "    }\n",
       "\n",
       "    .dataframe tbody tr th {\n",
       "        vertical-align: top;\n",
       "    }\n",
       "\n",
       "    .dataframe thead th {\n",
       "        text-align: right;\n",
       "    }\n",
       "</style>\n",
       "<table border=\"1\" class=\"dataframe\">\n",
       "  <thead>\n",
       "    <tr style=\"text-align: right;\">\n",
       "      <th></th>\n",
       "      <th>country</th>\n",
       "      <th>description</th>\n",
       "      <th>designation</th>\n",
       "      <th>points</th>\n",
       "      <th>price</th>\n",
       "      <th>province</th>\n",
       "      <th>region_1</th>\n",
       "      <th>region_2</th>\n",
       "      <th>taster_name</th>\n",
       "      <th>taster_twitter_handle</th>\n",
       "      <th>title</th>\n",
       "      <th>variety</th>\n",
       "      <th>winery</th>\n",
       "    </tr>\n",
       "  </thead>\n",
       "  <tbody>\n",
       "    <tr>\n",
       "      <th>0</th>\n",
       "      <td>Italy</td>\n",
       "      <td>Aromas include tropical fruit, broom, brimston...</td>\n",
       "      <td>Vulkà Bianco</td>\n",
       "      <td>87</td>\n",
       "      <td>NaN</td>\n",
       "      <td>Sicily &amp; Sardinia</td>\n",
       "      <td>Etna</td>\n",
       "      <td>NaN</td>\n",
       "      <td>Kerin O’Keefe</td>\n",
       "      <td>@kerinokeefe</td>\n",
       "      <td>Nicosia 2013 Vulkà Bianco  (Etna)</td>\n",
       "      <td>White Blend</td>\n",
       "      <td>Nicosia</td>\n",
       "    </tr>\n",
       "    <tr>\n",
       "      <th>1</th>\n",
       "      <td>Portugal</td>\n",
       "      <td>This is ripe and fruity, a wine that is smooth...</td>\n",
       "      <td>Avidagos</td>\n",
       "      <td>87</td>\n",
       "      <td>15.0</td>\n",
       "      <td>Douro</td>\n",
       "      <td>NaN</td>\n",
       "      <td>NaN</td>\n",
       "      <td>Roger Voss</td>\n",
       "      <td>@vossroger</td>\n",
       "      <td>Quinta dos Avidagos 2011 Avidagos Red (Douro)</td>\n",
       "      <td>Portuguese Red</td>\n",
       "      <td>Quinta dos Avidagos</td>\n",
       "    </tr>\n",
       "    <tr>\n",
       "      <th>2</th>\n",
       "      <td>US</td>\n",
       "      <td>Tart and snappy, the flavors of lime flesh and...</td>\n",
       "      <td>NaN</td>\n",
       "      <td>87</td>\n",
       "      <td>14.0</td>\n",
       "      <td>Oregon</td>\n",
       "      <td>Willamette Valley</td>\n",
       "      <td>Willamette Valley</td>\n",
       "      <td>Paul Gregutt</td>\n",
       "      <td>@paulgwine</td>\n",
       "      <td>Rainstorm 2013 Pinot Gris (Willamette Valley)</td>\n",
       "      <td>Pinot Gris</td>\n",
       "      <td>Rainstorm</td>\n",
       "    </tr>\n",
       "    <tr>\n",
       "      <th>3</th>\n",
       "      <td>US</td>\n",
       "      <td>Pineapple rind, lemon pith and orange blossom ...</td>\n",
       "      <td>Reserve Late Harvest</td>\n",
       "      <td>87</td>\n",
       "      <td>13.0</td>\n",
       "      <td>Michigan</td>\n",
       "      <td>Lake Michigan Shore</td>\n",
       "      <td>NaN</td>\n",
       "      <td>Alexander Peartree</td>\n",
       "      <td>NaN</td>\n",
       "      <td>St. Julian 2013 Reserve Late Harvest Riesling ...</td>\n",
       "      <td>Riesling</td>\n",
       "      <td>St. Julian</td>\n",
       "    </tr>\n",
       "    <tr>\n",
       "      <th>4</th>\n",
       "      <td>US</td>\n",
       "      <td>Much like the regular bottling from 2012, this...</td>\n",
       "      <td>Vintner's Reserve Wild Child Block</td>\n",
       "      <td>87</td>\n",
       "      <td>65.0</td>\n",
       "      <td>Oregon</td>\n",
       "      <td>Willamette Valley</td>\n",
       "      <td>Willamette Valley</td>\n",
       "      <td>Paul Gregutt</td>\n",
       "      <td>@paulgwine</td>\n",
       "      <td>Sweet Cheeks 2012 Vintner's Reserve Wild Child...</td>\n",
       "      <td>Pinot Noir</td>\n",
       "      <td>Sweet Cheeks</td>\n",
       "    </tr>\n",
       "  </tbody>\n",
       "</table>\n",
       "</div>"
      ],
      "text/plain": [
       "    country                                        description  \\\n",
       "0     Italy  Aromas include tropical fruit, broom, brimston...   \n",
       "1  Portugal  This is ripe and fruity, a wine that is smooth...   \n",
       "2        US  Tart and snappy, the flavors of lime flesh and...   \n",
       "3        US  Pineapple rind, lemon pith and orange blossom ...   \n",
       "4        US  Much like the regular bottling from 2012, this...   \n",
       "\n",
       "                          designation  points  price           province  \\\n",
       "0                        Vulkà Bianco      87    NaN  Sicily & Sardinia   \n",
       "1                            Avidagos      87   15.0              Douro   \n",
       "2                                 NaN      87   14.0             Oregon   \n",
       "3                Reserve Late Harvest      87   13.0           Michigan   \n",
       "4  Vintner's Reserve Wild Child Block      87   65.0             Oregon   \n",
       "\n",
       "              region_1           region_2         taster_name  \\\n",
       "0                 Etna                NaN       Kerin O’Keefe   \n",
       "1                  NaN                NaN          Roger Voss   \n",
       "2    Willamette Valley  Willamette Valley        Paul Gregutt   \n",
       "3  Lake Michigan Shore                NaN  Alexander Peartree   \n",
       "4    Willamette Valley  Willamette Valley        Paul Gregutt   \n",
       "\n",
       "  taster_twitter_handle                                              title  \\\n",
       "0          @kerinokeefe                  Nicosia 2013 Vulkà Bianco  (Etna)   \n",
       "1            @vossroger      Quinta dos Avidagos 2011 Avidagos Red (Douro)   \n",
       "2           @paulgwine       Rainstorm 2013 Pinot Gris (Willamette Valley)   \n",
       "3                   NaN  St. Julian 2013 Reserve Late Harvest Riesling ...   \n",
       "4           @paulgwine   Sweet Cheeks 2012 Vintner's Reserve Wild Child...   \n",
       "\n",
       "          variety               winery  \n",
       "0     White Blend              Nicosia  \n",
       "1  Portuguese Red  Quinta dos Avidagos  \n",
       "2      Pinot Gris            Rainstorm  \n",
       "3        Riesling           St. Julian  \n",
       "4      Pinot Noir         Sweet Cheeks  "
      ]
     },
     "execution_count": 1,
     "metadata": {},
     "output_type": "execute_result"
    }
   ],
   "source": [
    "import pandas as pd\n",
    "pd.set_option(\"display.max_rows\", 5)\n",
    "reviews = pd.read_csv(\"../input/wine-reviews/winemag-data-130k-v2.csv\", index_col=0)\n",
    "\n",
    "from learntools.core import binder; binder.bind(globals())\n",
    "from learntools.pandas.summary_functions_and_maps import *\n",
    "print(\"Setup complete.\")\n",
    "\n",
    "reviews.head()"
   ]
  },
  {
   "cell_type": "markdown",
   "id": "df2ff954",
   "metadata": {
    "papermill": {
     "duration": 0.00629,
     "end_time": "2023-05-07T05:46:25.592302",
     "exception": false,
     "start_time": "2023-05-07T05:46:25.586012",
     "status": "completed"
    },
    "tags": []
   },
   "source": [
    "# Exercises"
   ]
  },
  {
   "cell_type": "markdown",
   "id": "74e5f1c1",
   "metadata": {
    "papermill": {
     "duration": 0.006216,
     "end_time": "2023-05-07T05:46:25.605274",
     "exception": false,
     "start_time": "2023-05-07T05:46:25.599058",
     "status": "completed"
    },
    "tags": []
   },
   "source": [
    "## 1.\n",
    "\n",
    "What is the median of the `points` column in the `reviews` DataFrame?"
   ]
  },
  {
   "cell_type": "code",
   "execution_count": 2,
   "id": "03dfee9d",
   "metadata": {
    "execution": {
     "iopub.execute_input": "2023-05-07T05:46:25.619701Z",
     "iopub.status.busy": "2023-05-07T05:46:25.619330Z",
     "iopub.status.idle": "2023-05-07T05:46:25.629621Z",
     "shell.execute_reply": "2023-05-07T05:46:25.628548Z"
    },
    "papermill": {
     "duration": 0.020162,
     "end_time": "2023-05-07T05:46:25.631767",
     "exception": false,
     "start_time": "2023-05-07T05:46:25.611605",
     "status": "completed"
    },
    "tags": []
   },
   "outputs": [
    {
     "data": {
      "application/javascript": [
       "parent.postMessage({\"jupyterEvent\": \"custom.exercise_interaction\", \"data\": {\"outcomeType\": 1, \"valueTowardsCompletion\": 0.14285714285714285, \"interactionType\": 1, \"questionType\": 1, \"questionId\": \"1_MedianPoints\", \"learnToolsVersion\": \"0.3.4\", \"failureMessage\": \"\", \"exceptionClass\": \"\", \"trace\": \"\"}}, \"*\")"
      ],
      "text/plain": [
       "<IPython.core.display.Javascript object>"
      ]
     },
     "metadata": {},
     "output_type": "display_data"
    },
    {
     "data": {
      "text/markdown": [
       "<span style=\"color:#33cc33\">Correct</span>"
      ],
      "text/plain": [
       "Correct"
      ]
     },
     "metadata": {},
     "output_type": "display_data"
    }
   ],
   "source": [
    "median_points = reviews.points.median()\n",
    "\n",
    "# Check your answer\n",
    "q1.check()"
   ]
  },
  {
   "cell_type": "code",
   "execution_count": 3,
   "id": "ec511453",
   "metadata": {
    "execution": {
     "iopub.execute_input": "2023-05-07T05:46:25.646830Z",
     "iopub.status.busy": "2023-05-07T05:46:25.646411Z",
     "iopub.status.idle": "2023-05-07T05:46:25.650294Z",
     "shell.execute_reply": "2023-05-07T05:46:25.649261Z"
    },
    "papermill": {
     "duration": 0.013994,
     "end_time": "2023-05-07T05:46:25.652182",
     "exception": false,
     "start_time": "2023-05-07T05:46:25.638188",
     "status": "completed"
    },
    "tags": []
   },
   "outputs": [],
   "source": [
    "#q1.hint()\n",
    "#q1.solution()"
   ]
  },
  {
   "cell_type": "markdown",
   "id": "d32d421a",
   "metadata": {
    "papermill": {
     "duration": 0.006172,
     "end_time": "2023-05-07T05:46:25.664762",
     "exception": false,
     "start_time": "2023-05-07T05:46:25.658590",
     "status": "completed"
    },
    "tags": []
   },
   "source": [
    "## 2. \n",
    "What countries are represented in the dataset? (Your answer should not include any duplicates.)"
   ]
  },
  {
   "cell_type": "code",
   "execution_count": 4,
   "id": "55906c88",
   "metadata": {
    "execution": {
     "iopub.execute_input": "2023-05-07T05:46:25.679707Z",
     "iopub.status.busy": "2023-05-07T05:46:25.678999Z",
     "iopub.status.idle": "2023-05-07T05:46:25.692855Z",
     "shell.execute_reply": "2023-05-07T05:46:25.691782Z"
    },
    "papermill": {
     "duration": 0.023808,
     "end_time": "2023-05-07T05:46:25.695035",
     "exception": false,
     "start_time": "2023-05-07T05:46:25.671227",
     "status": "completed"
    },
    "tags": []
   },
   "outputs": [
    {
     "data": {
      "application/javascript": [
       "parent.postMessage({\"jupyterEvent\": \"custom.exercise_interaction\", \"data\": {\"outcomeType\": 1, \"valueTowardsCompletion\": 0.14285714285714285, \"interactionType\": 1, \"questionType\": 2, \"questionId\": \"2_UniqueCountries\", \"learnToolsVersion\": \"0.3.4\", \"failureMessage\": \"\", \"exceptionClass\": \"\", \"trace\": \"\"}}, \"*\")"
      ],
      "text/plain": [
       "<IPython.core.display.Javascript object>"
      ]
     },
     "metadata": {},
     "output_type": "display_data"
    },
    {
     "data": {
      "text/markdown": [
       "<span style=\"color:#33cc33\">Correct</span>"
      ],
      "text/plain": [
       "Correct"
      ]
     },
     "metadata": {},
     "output_type": "display_data"
    }
   ],
   "source": [
    "countries = reviews.country.unique()\n",
    "\n",
    "# Check your answer\n",
    "q2.check()"
   ]
  },
  {
   "cell_type": "code",
   "execution_count": 5,
   "id": "0b404bf4",
   "metadata": {
    "execution": {
     "iopub.execute_input": "2023-05-07T05:46:25.710751Z",
     "iopub.status.busy": "2023-05-07T05:46:25.710085Z",
     "iopub.status.idle": "2023-05-07T05:46:25.713636Z",
     "shell.execute_reply": "2023-05-07T05:46:25.712871Z"
    },
    "papermill": {
     "duration": 0.013772,
     "end_time": "2023-05-07T05:46:25.715686",
     "exception": false,
     "start_time": "2023-05-07T05:46:25.701914",
     "status": "completed"
    },
    "tags": []
   },
   "outputs": [],
   "source": [
    "#q2.hint()\n",
    "#q2.solution()"
   ]
  },
  {
   "cell_type": "markdown",
   "id": "257a7372",
   "metadata": {
    "papermill": {
     "duration": 0.006608,
     "end_time": "2023-05-07T05:46:25.729149",
     "exception": false,
     "start_time": "2023-05-07T05:46:25.722541",
     "status": "completed"
    },
    "tags": []
   },
   "source": [
    "## 3.\n",
    "How often does each country appear in the dataset? Create a Series `reviews_per_country` mapping countries to the count of reviews of wines from that country."
   ]
  },
  {
   "cell_type": "code",
   "execution_count": 6,
   "id": "14dfcc62",
   "metadata": {
    "execution": {
     "iopub.execute_input": "2023-05-07T05:46:25.744757Z",
     "iopub.status.busy": "2023-05-07T05:46:25.744124Z",
     "iopub.status.idle": "2023-05-07T05:46:25.760813Z",
     "shell.execute_reply": "2023-05-07T05:46:25.759808Z"
    },
    "papermill": {
     "duration": 0.026755,
     "end_time": "2023-05-07T05:46:25.762791",
     "exception": false,
     "start_time": "2023-05-07T05:46:25.736036",
     "status": "completed"
    },
    "tags": []
   },
   "outputs": [
    {
     "data": {
      "application/javascript": [
       "parent.postMessage({\"jupyterEvent\": \"custom.exercise_interaction\", \"data\": {\"outcomeType\": 1, \"valueTowardsCompletion\": 0.14285714285714285, \"interactionType\": 1, \"questionType\": 1, \"questionId\": \"3_ReviewsPerCountry\", \"learnToolsVersion\": \"0.3.4\", \"failureMessage\": \"\", \"exceptionClass\": \"\", \"trace\": \"\"}}, \"*\")"
      ],
      "text/plain": [
       "<IPython.core.display.Javascript object>"
      ]
     },
     "metadata": {},
     "output_type": "display_data"
    },
    {
     "data": {
      "text/markdown": [
       "<span style=\"color:#33cc33\">Correct</span>"
      ],
      "text/plain": [
       "Correct"
      ]
     },
     "metadata": {},
     "output_type": "display_data"
    }
   ],
   "source": [
    "reviews_per_country = reviews.country.value_counts()\n",
    "\n",
    "# Check your answer\n",
    "q3.check()"
   ]
  },
  {
   "cell_type": "code",
   "execution_count": 7,
   "id": "b6efb8d3",
   "metadata": {
    "execution": {
     "iopub.execute_input": "2023-05-07T05:46:25.778205Z",
     "iopub.status.busy": "2023-05-07T05:46:25.777826Z",
     "iopub.status.idle": "2023-05-07T05:46:25.782231Z",
     "shell.execute_reply": "2023-05-07T05:46:25.781252Z"
    },
    "papermill": {
     "duration": 0.014813,
     "end_time": "2023-05-07T05:46:25.784453",
     "exception": false,
     "start_time": "2023-05-07T05:46:25.769640",
     "status": "completed"
    },
    "tags": []
   },
   "outputs": [],
   "source": [
    "#q3.hint()\n",
    "#q3.solution()"
   ]
  },
  {
   "cell_type": "markdown",
   "id": "120ff9f3",
   "metadata": {
    "papermill": {
     "duration": 0.006712,
     "end_time": "2023-05-07T05:46:25.798295",
     "exception": false,
     "start_time": "2023-05-07T05:46:25.791583",
     "status": "completed"
    },
    "tags": []
   },
   "source": [
    "## 4.\n",
    "Create variable `centered_price` containing a version of the `price` column with the mean price subtracted.\n",
    "\n",
    "(Note: this 'centering' transformation is a common preprocessing step before applying various machine learning algorithms.) "
   ]
  },
  {
   "cell_type": "code",
   "execution_count": 8,
   "id": "94170b57",
   "metadata": {
    "execution": {
     "iopub.execute_input": "2023-05-07T05:46:25.813874Z",
     "iopub.status.busy": "2023-05-07T05:46:25.813472Z",
     "iopub.status.idle": "2023-05-07T05:46:25.824149Z",
     "shell.execute_reply": "2023-05-07T05:46:25.823259Z"
    },
    "papermill": {
     "duration": 0.021005,
     "end_time": "2023-05-07T05:46:25.826197",
     "exception": false,
     "start_time": "2023-05-07T05:46:25.805192",
     "status": "completed"
    },
    "tags": []
   },
   "outputs": [
    {
     "data": {
      "application/javascript": [
       "parent.postMessage({\"jupyterEvent\": \"custom.exercise_interaction\", \"data\": {\"outcomeType\": 1, \"valueTowardsCompletion\": 0.14285714285714285, \"interactionType\": 1, \"questionType\": 1, \"questionId\": \"4_CenteredPrice\", \"learnToolsVersion\": \"0.3.4\", \"failureMessage\": \"\", \"exceptionClass\": \"\", \"trace\": \"\"}}, \"*\")"
      ],
      "text/plain": [
       "<IPython.core.display.Javascript object>"
      ]
     },
     "metadata": {},
     "output_type": "display_data"
    },
    {
     "data": {
      "text/markdown": [
       "<span style=\"color:#33cc33\">Correct</span>"
      ],
      "text/plain": [
       "Correct"
      ]
     },
     "metadata": {},
     "output_type": "display_data"
    }
   ],
   "source": [
    "reviews_mean=reviews.price.mean()\n",
    "centered_price = reviews.price -reviews_mean\n",
    "\n",
    "# Check your answer\n",
    "q4.check()"
   ]
  },
  {
   "cell_type": "code",
   "execution_count": 9,
   "id": "59bacdd0",
   "metadata": {
    "execution": {
     "iopub.execute_input": "2023-05-07T05:46:25.842714Z",
     "iopub.status.busy": "2023-05-07T05:46:25.841991Z",
     "iopub.status.idle": "2023-05-07T05:46:25.845652Z",
     "shell.execute_reply": "2023-05-07T05:46:25.844912Z"
    },
    "papermill": {
     "duration": 0.014193,
     "end_time": "2023-05-07T05:46:25.847689",
     "exception": false,
     "start_time": "2023-05-07T05:46:25.833496",
     "status": "completed"
    },
    "tags": []
   },
   "outputs": [],
   "source": [
    "#q4.hint()\n",
    "#q4.solution()"
   ]
  },
  {
   "cell_type": "markdown",
   "id": "74f507af",
   "metadata": {
    "papermill": {
     "duration": 0.006921,
     "end_time": "2023-05-07T05:46:25.862352",
     "exception": false,
     "start_time": "2023-05-07T05:46:25.855431",
     "status": "completed"
    },
    "tags": []
   },
   "source": [
    "## 5.\n",
    "I'm an economical wine buyer. Which wine is the \"best bargain\"? Create a variable `bargain_wine` with the title of the wine with the highest points-to-price ratio in the dataset."
   ]
  },
  {
   "cell_type": "code",
   "execution_count": 10,
   "id": "9bc60659",
   "metadata": {
    "execution": {
     "iopub.execute_input": "2023-05-07T05:46:25.878895Z",
     "iopub.status.busy": "2023-05-07T05:46:25.878191Z",
     "iopub.status.idle": "2023-05-07T05:46:25.891587Z",
     "shell.execute_reply": "2023-05-07T05:46:25.890506Z"
    },
    "papermill": {
     "duration": 0.024059,
     "end_time": "2023-05-07T05:46:25.893749",
     "exception": false,
     "start_time": "2023-05-07T05:46:25.869690",
     "status": "completed"
    },
    "tags": []
   },
   "outputs": [
    {
     "data": {
      "application/javascript": [
       "parent.postMessage({\"jupyterEvent\": \"custom.exercise_interaction\", \"data\": {\"outcomeType\": 1, \"valueTowardsCompletion\": 0.14285714285714285, \"interactionType\": 1, \"questionType\": 2, \"questionId\": \"5_BargainWine\", \"learnToolsVersion\": \"0.3.4\", \"failureMessage\": \"\", \"exceptionClass\": \"\", \"trace\": \"\"}}, \"*\")"
      ],
      "text/plain": [
       "<IPython.core.display.Javascript object>"
      ]
     },
     "metadata": {},
     "output_type": "display_data"
    },
    {
     "data": {
      "text/markdown": [
       "<span style=\"color:#33cc33\">Correct</span>"
      ],
      "text/plain": [
       "Correct"
      ]
     },
     "metadata": {},
     "output_type": "display_data"
    }
   ],
   "source": [
    "bargain_idx = (reviews.points / reviews.price).idxmax()\n",
    "bargain_wine = reviews.loc[bargain_idx, 'title']\n",
    "\n",
    "\n",
    "# Check your answer\n",
    "q5.check()"
   ]
  },
  {
   "cell_type": "code",
   "execution_count": 11,
   "id": "63c43dcc",
   "metadata": {
    "execution": {
     "iopub.execute_input": "2023-05-07T05:46:25.910413Z",
     "iopub.status.busy": "2023-05-07T05:46:25.910026Z",
     "iopub.status.idle": "2023-05-07T05:46:25.914405Z",
     "shell.execute_reply": "2023-05-07T05:46:25.913265Z"
    },
    "papermill": {
     "duration": 0.015288,
     "end_time": "2023-05-07T05:46:25.916497",
     "exception": false,
     "start_time": "2023-05-07T05:46:25.901209",
     "status": "completed"
    },
    "tags": []
   },
   "outputs": [],
   "source": [
    "#q5.hint()\n",
    "#q5.solution()"
   ]
  },
  {
   "cell_type": "markdown",
   "id": "f83f3b53",
   "metadata": {
    "papermill": {
     "duration": 0.007146,
     "end_time": "2023-05-07T05:46:25.931049",
     "exception": false,
     "start_time": "2023-05-07T05:46:25.923903",
     "status": "completed"
    },
    "tags": []
   },
   "source": [
    "## 6.\n",
    "There are only so many words you can use when describing a bottle of wine. Is a wine more likely to be \"tropical\" or \"fruity\"? Create a Series `descriptor_counts` counting how many times each of these two words appears in the `description` column in the dataset. (For simplicity, let's ignore the capitalized versions of these words.)"
   ]
  },
  {
   "cell_type": "code",
   "execution_count": 12,
   "id": "ad6739fc",
   "metadata": {
    "execution": {
     "iopub.execute_input": "2023-05-07T05:46:25.947945Z",
     "iopub.status.busy": "2023-05-07T05:46:25.947345Z",
     "iopub.status.idle": "2023-05-07T05:46:25.956960Z",
     "shell.execute_reply": "2023-05-07T05:46:25.955964Z"
    },
    "papermill": {
     "duration": 0.020701,
     "end_time": "2023-05-07T05:46:25.959199",
     "exception": false,
     "start_time": "2023-05-07T05:46:25.938498",
     "status": "completed"
    },
    "tags": []
   },
   "outputs": [
    {
     "data": {
      "text/plain": [
       "0         Aromas include tropical fruit, broom, brimston...\n",
       "1         This is ripe and fruity, a wine that is smooth...\n",
       "                                ...                        \n",
       "129969    A dry style of Pinot Gris, this is crisp with ...\n",
       "129970    Big, rich and off-dry, this is powered by inte...\n",
       "Name: description, Length: 129971, dtype: object"
      ]
     },
     "execution_count": 12,
     "metadata": {},
     "output_type": "execute_result"
    }
   ],
   "source": [
    "reviews.description"
   ]
  },
  {
   "cell_type": "code",
   "execution_count": 13,
   "id": "172191bf",
   "metadata": {
    "execution": {
     "iopub.execute_input": "2023-05-07T05:46:25.976163Z",
     "iopub.status.busy": "2023-05-07T05:46:25.975507Z",
     "iopub.status.idle": "2023-05-07T05:46:26.115198Z",
     "shell.execute_reply": "2023-05-07T05:46:26.114060Z"
    },
    "papermill": {
     "duration": 0.150666,
     "end_time": "2023-05-07T05:46:26.117496",
     "exception": false,
     "start_time": "2023-05-07T05:46:25.966830",
     "status": "completed"
    },
    "tags": []
   },
   "outputs": [
    {
     "data": {
      "application/javascript": [
       "parent.postMessage({\"jupyterEvent\": \"custom.exercise_interaction\", \"data\": {\"outcomeType\": 1, \"valueTowardsCompletion\": 0.14285714285714285, \"interactionType\": 1, \"questionType\": 1, \"questionId\": \"6_DescriptorCounts\", \"learnToolsVersion\": \"0.3.4\", \"failureMessage\": \"\", \"exceptionClass\": \"\", \"trace\": \"\"}}, \"*\")"
      ],
      "text/plain": [
       "<IPython.core.display.Javascript object>"
      ]
     },
     "metadata": {},
     "output_type": "display_data"
    },
    {
     "data": {
      "text/markdown": [
       "<span style=\"color:#33cc33\">Correct</span>"
      ],
      "text/plain": [
       "Correct"
      ]
     },
     "metadata": {},
     "output_type": "display_data"
    }
   ],
   "source": [
    "n_fruity=reviews.description.map(lambda desc: \"fruity\" in desc).sum()\n",
    "n_tropical=reviews.description.map(lambda desc: \"tropical\" in desc).sum()\n",
    "descriptor_counts = pd.Series([n_tropical,n_fruity],index=['tropical','fruity'])\n",
    "\n",
    "# Check your answer\n",
    "q6.check()"
   ]
  },
  {
   "cell_type": "code",
   "execution_count": 14,
   "id": "e608ed9c",
   "metadata": {
    "execution": {
     "iopub.execute_input": "2023-05-07T05:46:26.134925Z",
     "iopub.status.busy": "2023-05-07T05:46:26.134517Z",
     "iopub.status.idle": "2023-05-07T05:46:26.139265Z",
     "shell.execute_reply": "2023-05-07T05:46:26.138056Z"
    },
    "papermill": {
     "duration": 0.016253,
     "end_time": "2023-05-07T05:46:26.141641",
     "exception": false,
     "start_time": "2023-05-07T05:46:26.125388",
     "status": "completed"
    },
    "tags": []
   },
   "outputs": [],
   "source": [
    "#q6.hint()\n",
    "#q6.solution()"
   ]
  },
  {
   "cell_type": "markdown",
   "id": "d5cadca6",
   "metadata": {
    "papermill": {
     "duration": 0.007503,
     "end_time": "2023-05-07T05:46:26.157318",
     "exception": false,
     "start_time": "2023-05-07T05:46:26.149815",
     "status": "completed"
    },
    "tags": []
   },
   "source": [
    "## 7.\n",
    "We'd like to host these wine reviews on our website, but a rating system ranging from 80 to 100 points is too hard to understand - we'd like to translate them into simple star ratings. A score of 95 or higher counts as 3 stars, a score of at least 85 but less than 95 is 2 stars. Any other score is 1 star.\n",
    "\n",
    "Also, the Canadian Vintners Association bought a lot of ads on the site, so any wines from Canada should automatically get 3 stars, regardless of points.\n",
    "\n",
    "Create a series `star_ratings` with the number of stars corresponding to each review in the dataset."
   ]
  },
  {
   "cell_type": "code",
   "execution_count": 15,
   "id": "b9c47d33",
   "metadata": {
    "execution": {
     "iopub.execute_input": "2023-05-07T05:46:26.175013Z",
     "iopub.status.busy": "2023-05-07T05:46:26.174602Z",
     "iopub.status.idle": "2023-05-07T05:46:29.614142Z",
     "shell.execute_reply": "2023-05-07T05:46:29.613123Z"
    },
    "papermill": {
     "duration": 3.451132,
     "end_time": "2023-05-07T05:46:29.616310",
     "exception": false,
     "start_time": "2023-05-07T05:46:26.165178",
     "status": "completed"
    },
    "tags": []
   },
   "outputs": [
    {
     "data": {
      "application/javascript": [
       "parent.postMessage({\"jupyterEvent\": \"custom.exercise_interaction\", \"data\": {\"outcomeType\": 1, \"valueTowardsCompletion\": 0.14285714285714285, \"interactionType\": 1, \"questionType\": 1, \"questionId\": \"7_StarRatings\", \"learnToolsVersion\": \"0.3.4\", \"failureMessage\": \"\", \"exceptionClass\": \"\", \"trace\": \"\"}}, \"*\")"
      ],
      "text/plain": [
       "<IPython.core.display.Javascript object>"
      ]
     },
     "metadata": {},
     "output_type": "display_data"
    },
    {
     "data": {
      "text/markdown": [
       "<span style=\"color:#33cc33\">Correct</span>"
      ],
      "text/plain": [
       "Correct"
      ]
     },
     "metadata": {},
     "output_type": "display_data"
    }
   ],
   "source": [
    "def stars(row):\n",
    "    if row.country == 'Canada':\n",
    "        return 3\n",
    "    elif row.points >= 95:\n",
    "        return 3\n",
    "    elif row.points >= 85:\n",
    "        return 2\n",
    "    else:\n",
    "        return 1\n",
    "    \n",
    "star_ratings = reviews.apply(stars, axis='columns')\n",
    "\n",
    "# Check your answer\n",
    "q7.check()"
   ]
  },
  {
   "cell_type": "code",
   "execution_count": 16,
   "id": "1f564dc3",
   "metadata": {
    "execution": {
     "iopub.execute_input": "2023-05-07T05:46:29.634044Z",
     "iopub.status.busy": "2023-05-07T05:46:29.633526Z",
     "iopub.status.idle": "2023-05-07T05:46:29.638354Z",
     "shell.execute_reply": "2023-05-07T05:46:29.637261Z"
    },
    "papermill": {
     "duration": 0.01633,
     "end_time": "2023-05-07T05:46:29.640618",
     "exception": false,
     "start_time": "2023-05-07T05:46:29.624288",
     "status": "completed"
    },
    "tags": []
   },
   "outputs": [],
   "source": [
    "#q7.hint()\n",
    "#q7.solution()"
   ]
  },
  {
   "cell_type": "markdown",
   "id": "dbafcf9d",
   "metadata": {
    "papermill": {
     "duration": 0.007997,
     "end_time": "2023-05-07T05:46:29.656834",
     "exception": false,
     "start_time": "2023-05-07T05:46:29.648837",
     "status": "completed"
    },
    "tags": []
   },
   "source": [
    "# Keep going\n",
    "Continue to **[grouping and sorting](https://www.kaggle.com/residentmario/grouping-and-sorting)**."
   ]
  },
  {
   "cell_type": "markdown",
   "id": "4dd0e80d",
   "metadata": {
    "papermill": {
     "duration": 0.007695,
     "end_time": "2023-05-07T05:46:29.672529",
     "exception": false,
     "start_time": "2023-05-07T05:46:29.664834",
     "status": "completed"
    },
    "tags": []
   },
   "source": [
    "---\n",
    "\n",
    "\n",
    "\n",
    "\n",
    "*Have questions or comments? Visit the [course discussion forum](https://www.kaggle.com/learn/pandas/discussion) to chat with other learners.*"
   ]
  }
 ],
 "metadata": {
  "kernelspec": {
   "display_name": "Python 3",
   "language": "python",
   "name": "python3"
  },
  "language_info": {
   "codemirror_mode": {
    "name": "ipython",
    "version": 3
   },
   "file_extension": ".py",
   "mimetype": "text/x-python",
   "name": "python",
   "nbconvert_exporter": "python",
   "pygments_lexer": "ipython3",
   "version": "3.10.10"
  },
  "papermill": {
   "default_parameters": {},
   "duration": 22.169565,
   "end_time": "2023-05-07T05:46:30.604611",
   "environment_variables": {},
   "exception": null,
   "input_path": "__notebook__.ipynb",
   "output_path": "__notebook__.ipynb",
   "parameters": {},
   "start_time": "2023-05-07T05:46:08.435046",
   "version": "2.4.0"
  }
 },
 "nbformat": 4,
 "nbformat_minor": 5
}
