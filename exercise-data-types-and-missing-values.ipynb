{
 "cells": [
  {
   "cell_type": "markdown",
   "id": "e3449aa1",
   "metadata": {
    "papermill": {
     "duration": 0.005261,
     "end_time": "2023-05-07T06:41:03.896375",
     "exception": false,
     "start_time": "2023-05-07T06:41:03.891114",
     "status": "completed"
    },
    "tags": []
   },
   "source": [
    "**This notebook is an exercise in the [Pandas](https://www.kaggle.com/learn/pandas) course.  You can reference the tutorial at [this link](https://www.kaggle.com/residentmario/data-types-and-missing-values).**\n",
    "\n",
    "---\n"
   ]
  },
  {
   "cell_type": "markdown",
   "id": "30d0b627",
   "metadata": {
    "papermill": {
     "duration": 0.003977,
     "end_time": "2023-05-07T06:41:03.905499",
     "exception": false,
     "start_time": "2023-05-07T06:41:03.901522",
     "status": "completed"
    },
    "tags": []
   },
   "source": [
    "# Introduction\n",
    "\n",
    "Run the following cell to load your data and some utility functions."
   ]
  },
  {
   "cell_type": "code",
   "execution_count": 1,
   "id": "40badda5",
   "metadata": {
    "execution": {
     "iopub.execute_input": "2023-05-07T06:41:03.916547Z",
     "iopub.status.busy": "2023-05-07T06:41:03.915278Z",
     "iopub.status.idle": "2023-05-07T06:41:07.276803Z",
     "shell.execute_reply": "2023-05-07T06:41:07.275619Z"
    },
    "papermill": {
     "duration": 3.370003,
     "end_time": "2023-05-07T06:41:07.279747",
     "exception": false,
     "start_time": "2023-05-07T06:41:03.909744",
     "status": "completed"
    },
    "tags": []
   },
   "outputs": [
    {
     "name": "stdout",
     "output_type": "stream",
     "text": [
      "Setup complete.\n"
     ]
    }
   ],
   "source": [
    "import pandas as pd\n",
    "\n",
    "reviews = pd.read_csv(\"../input/wine-reviews/winemag-data-130k-v2.csv\", index_col=0)\n",
    "\n",
    "from learntools.core import binder; binder.bind(globals())\n",
    "from learntools.pandas.data_types_and_missing_data import *\n",
    "print(\"Setup complete.\")"
   ]
  },
  {
   "cell_type": "markdown",
   "id": "db9b4b4a",
   "metadata": {
    "papermill": {
     "duration": 0.004026,
     "end_time": "2023-05-07T06:41:07.288293",
     "exception": false,
     "start_time": "2023-05-07T06:41:07.284267",
     "status": "completed"
    },
    "tags": []
   },
   "source": [
    "# Exercises"
   ]
  },
  {
   "cell_type": "markdown",
   "id": "a958c7a6",
   "metadata": {
    "papermill": {
     "duration": 0.003955,
     "end_time": "2023-05-07T06:41:07.296581",
     "exception": false,
     "start_time": "2023-05-07T06:41:07.292626",
     "status": "completed"
    },
    "tags": []
   },
   "source": [
    "## 1. \n",
    "What is the data type of the `points` column in the dataset?"
   ]
  },
  {
   "cell_type": "code",
   "execution_count": 2,
   "id": "9f593fee",
   "metadata": {
    "execution": {
     "iopub.execute_input": "2023-05-07T06:41:07.307005Z",
     "iopub.status.busy": "2023-05-07T06:41:07.306629Z",
     "iopub.status.idle": "2023-05-07T06:41:07.317191Z",
     "shell.execute_reply": "2023-05-07T06:41:07.315928Z"
    },
    "papermill": {
     "duration": 0.018517,
     "end_time": "2023-05-07T06:41:07.319500",
     "exception": false,
     "start_time": "2023-05-07T06:41:07.300983",
     "status": "completed"
    },
    "tags": []
   },
   "outputs": [
    {
     "data": {
      "application/javascript": [
       "parent.postMessage({\"jupyterEvent\": \"custom.exercise_interaction\", \"data\": {\"outcomeType\": 1, \"valueTowardsCompletion\": 0.25, \"interactionType\": 1, \"questionType\": 1, \"questionId\": \"1_PointsDtype\", \"learnToolsVersion\": \"0.3.4\", \"failureMessage\": \"\", \"exceptionClass\": \"\", \"trace\": \"\"}}, \"*\")"
      ],
      "text/plain": [
       "<IPython.core.display.Javascript object>"
      ]
     },
     "metadata": {},
     "output_type": "display_data"
    },
    {
     "data": {
      "text/markdown": [
       "<span style=\"color:#33cc33\">Correct</span>"
      ],
      "text/plain": [
       "Correct"
      ]
     },
     "metadata": {},
     "output_type": "display_data"
    }
   ],
   "source": [
    "# Your code here\n",
    "dtype = reviews.points.dtype\n",
    "\n",
    "# Check your answer\n",
    "q1.check()"
   ]
  },
  {
   "cell_type": "code",
   "execution_count": 3,
   "id": "c8f9fe1d",
   "metadata": {
    "execution": {
     "iopub.execute_input": "2023-05-07T06:41:07.333635Z",
     "iopub.status.busy": "2023-05-07T06:41:07.332366Z",
     "iopub.status.idle": "2023-05-07T06:41:07.338304Z",
     "shell.execute_reply": "2023-05-07T06:41:07.337375Z"
    },
    "papermill": {
     "duration": 0.014721,
     "end_time": "2023-05-07T06:41:07.340693",
     "exception": false,
     "start_time": "2023-05-07T06:41:07.325972",
     "status": "completed"
    },
    "tags": []
   },
   "outputs": [],
   "source": [
    "#q1.hint()\n",
    "#q1.solution()"
   ]
  },
  {
   "cell_type": "markdown",
   "id": "8a06e1c5",
   "metadata": {
    "papermill": {
     "duration": 0.004414,
     "end_time": "2023-05-07T06:41:07.349835",
     "exception": false,
     "start_time": "2023-05-07T06:41:07.345421",
     "status": "completed"
    },
    "tags": []
   },
   "source": [
    "## 2. \n",
    "Create a Series from entries in the `points` column, but convert the entries to strings. Hint: strings are `str` in native Python."
   ]
  },
  {
   "cell_type": "code",
   "execution_count": 4,
   "id": "8a51437f",
   "metadata": {
    "execution": {
     "iopub.execute_input": "2023-05-07T06:41:07.361513Z",
     "iopub.status.busy": "2023-05-07T06:41:07.360885Z",
     "iopub.status.idle": "2023-05-07T06:41:07.423197Z",
     "shell.execute_reply": "2023-05-07T06:41:07.422059Z"
    },
    "papermill": {
     "duration": 0.070765,
     "end_time": "2023-05-07T06:41:07.425570",
     "exception": false,
     "start_time": "2023-05-07T06:41:07.354805",
     "status": "completed"
    },
    "tags": []
   },
   "outputs": [
    {
     "data": {
      "application/javascript": [
       "parent.postMessage({\"jupyterEvent\": \"custom.exercise_interaction\", \"data\": {\"outcomeType\": 1, \"valueTowardsCompletion\": 0.25, \"interactionType\": 1, \"questionType\": 1, \"questionId\": \"2_StrPoints\", \"learnToolsVersion\": \"0.3.4\", \"failureMessage\": \"\", \"exceptionClass\": \"\", \"trace\": \"\"}}, \"*\")"
      ],
      "text/plain": [
       "<IPython.core.display.Javascript object>"
      ]
     },
     "metadata": {},
     "output_type": "display_data"
    },
    {
     "data": {
      "text/markdown": [
       "<span style=\"color:#33cc33\">Correct</span>"
      ],
      "text/plain": [
       "Correct"
      ]
     },
     "metadata": {},
     "output_type": "display_data"
    }
   ],
   "source": [
    "point_strings = reviews.points.astype('str')\n",
    "\n",
    "# Check your answer\n",
    "q2.check()"
   ]
  },
  {
   "cell_type": "code",
   "execution_count": 5,
   "id": "8b1c31e7",
   "metadata": {
    "execution": {
     "iopub.execute_input": "2023-05-07T06:41:07.439068Z",
     "iopub.status.busy": "2023-05-07T06:41:07.437878Z",
     "iopub.status.idle": "2023-05-07T06:41:07.443142Z",
     "shell.execute_reply": "2023-05-07T06:41:07.442196Z"
    },
    "papermill": {
     "duration": 0.014469,
     "end_time": "2023-05-07T06:41:07.445458",
     "exception": false,
     "start_time": "2023-05-07T06:41:07.430989",
     "status": "completed"
    },
    "tags": []
   },
   "outputs": [],
   "source": [
    "#q2.hint()\n",
    "#q2.solution()"
   ]
  },
  {
   "cell_type": "markdown",
   "id": "953c64f7",
   "metadata": {
    "papermill": {
     "duration": 0.004601,
     "end_time": "2023-05-07T06:41:07.454900",
     "exception": false,
     "start_time": "2023-05-07T06:41:07.450299",
     "status": "completed"
    },
    "tags": []
   },
   "source": [
    "## 3.\n",
    "Sometimes the price column is null. How many reviews in the dataset are missing a price?"
   ]
  },
  {
   "cell_type": "code",
   "execution_count": 6,
   "id": "c7a40e36",
   "metadata": {
    "execution": {
     "iopub.execute_input": "2023-05-07T06:41:07.466846Z",
     "iopub.status.busy": "2023-05-07T06:41:07.466185Z",
     "iopub.status.idle": "2023-05-07T06:41:07.476184Z",
     "shell.execute_reply": "2023-05-07T06:41:07.475292Z"
    },
    "papermill": {
     "duration": 0.01855,
     "end_time": "2023-05-07T06:41:07.478384",
     "exception": false,
     "start_time": "2023-05-07T06:41:07.459834",
     "status": "completed"
    },
    "tags": []
   },
   "outputs": [
    {
     "data": {
      "application/javascript": [
       "parent.postMessage({\"jupyterEvent\": \"custom.exercise_interaction\", \"data\": {\"outcomeType\": 1, \"valueTowardsCompletion\": 0.25, \"interactionType\": 1, \"questionType\": 1, \"questionId\": \"3_CountMissingPrices\", \"learnToolsVersion\": \"0.3.4\", \"failureMessage\": \"\", \"exceptionClass\": \"\", \"trace\": \"\"}}, \"*\")"
      ],
      "text/plain": [
       "<IPython.core.display.Javascript object>"
      ]
     },
     "metadata": {},
     "output_type": "display_data"
    },
    {
     "data": {
      "text/markdown": [
       "<span style=\"color:#33cc33\">Correct</span>"
      ],
      "text/plain": [
       "Correct"
      ]
     },
     "metadata": {},
     "output_type": "display_data"
    }
   ],
   "source": [
    "n_missing_prices =reviews.price.isnull().sum()\n",
    "\n",
    "# Check your answer\n",
    "q3.check()"
   ]
  },
  {
   "cell_type": "code",
   "execution_count": 7,
   "id": "75814773",
   "metadata": {
    "execution": {
     "iopub.execute_input": "2023-05-07T06:41:07.490741Z",
     "iopub.status.busy": "2023-05-07T06:41:07.490330Z",
     "iopub.status.idle": "2023-05-07T06:41:07.494879Z",
     "shell.execute_reply": "2023-05-07T06:41:07.493613Z"
    },
    "papermill": {
     "duration": 0.013629,
     "end_time": "2023-05-07T06:41:07.497413",
     "exception": false,
     "start_time": "2023-05-07T06:41:07.483784",
     "status": "completed"
    },
    "tags": []
   },
   "outputs": [],
   "source": [
    "#q3.hint()\n",
    "#q3.solution()"
   ]
  },
  {
   "cell_type": "markdown",
   "id": "051813d3",
   "metadata": {
    "papermill": {
     "duration": 0.005394,
     "end_time": "2023-05-07T06:41:07.508170",
     "exception": false,
     "start_time": "2023-05-07T06:41:07.502776",
     "status": "completed"
    },
    "tags": []
   },
   "source": [
    "## 4.\n",
    "What are the most common wine-producing regions? Create a Series counting the number of times each value occurs in the `region_1` field. This field is often missing data, so replace missing values with `Unknown`. Sort in descending order.  Your output should look something like this:\n",
    "\n",
    "```\n",
    "Unknown                    21247\n",
    "Napa Valley                 4480\n",
    "                           ...  \n",
    "Bardolino Superiore            1\n",
    "Primitivo del Tarantino        1\n",
    "Name: region_1, Length: 1230, dtype: int64\n",
    "```"
   ]
  },
  {
   "cell_type": "code",
   "execution_count": 8,
   "id": "120a8e62",
   "metadata": {
    "execution": {
     "iopub.execute_input": "2023-05-07T06:41:07.520246Z",
     "iopub.status.busy": "2023-05-07T06:41:07.519872Z",
     "iopub.status.idle": "2023-05-07T06:41:07.569276Z",
     "shell.execute_reply": "2023-05-07T06:41:07.567952Z"
    },
    "papermill": {
     "duration": 0.058642,
     "end_time": "2023-05-07T06:41:07.571930",
     "exception": false,
     "start_time": "2023-05-07T06:41:07.513288",
     "status": "completed"
    },
    "tags": []
   },
   "outputs": [
    {
     "data": {
      "application/javascript": [
       "parent.postMessage({\"jupyterEvent\": \"custom.exercise_interaction\", \"data\": {\"outcomeType\": 1, \"valueTowardsCompletion\": 0.25, \"interactionType\": 1, \"questionType\": 2, \"questionId\": \"4_ReviewsPerRegion\", \"learnToolsVersion\": \"0.3.4\", \"failureMessage\": \"\", \"exceptionClass\": \"\", \"trace\": \"\"}}, \"*\")"
      ],
      "text/plain": [
       "<IPython.core.display.Javascript object>"
      ]
     },
     "metadata": {},
     "output_type": "display_data"
    },
    {
     "data": {
      "text/markdown": [
       "<span style=\"color:#33cc33\">Correct</span>"
      ],
      "text/plain": [
       "Correct"
      ]
     },
     "metadata": {},
     "output_type": "display_data"
    }
   ],
   "source": [
    "\n",
    "reviews_per_region = reviews.region_1.fillna('Unknown').value_counts().sort_values(ascending=False)\n",
    "\n",
    "# Check your answer\n",
    "q4.check()"
   ]
  },
  {
   "cell_type": "code",
   "execution_count": 9,
   "id": "975c82c3",
   "metadata": {
    "execution": {
     "iopub.execute_input": "2023-05-07T06:41:07.584516Z",
     "iopub.status.busy": "2023-05-07T06:41:07.584122Z",
     "iopub.status.idle": "2023-05-07T06:41:07.593314Z",
     "shell.execute_reply": "2023-05-07T06:41:07.592106Z"
    },
    "papermill": {
     "duration": 0.018289,
     "end_time": "2023-05-07T06:41:07.595692",
     "exception": false,
     "start_time": "2023-05-07T06:41:07.577403",
     "status": "completed"
    },
    "tags": []
   },
   "outputs": [
    {
     "data": {
      "application/javascript": [
       "parent.postMessage({\"jupyterEvent\": \"custom.exercise_interaction\", \"data\": {\"interactionType\": 3, \"questionType\": 2, \"questionId\": \"4_ReviewsPerRegion\", \"learnToolsVersion\": \"0.3.4\", \"valueTowardsCompletion\": 0.0, \"failureMessage\": \"\", \"exceptionClass\": \"\", \"trace\": \"\", \"outcomeType\": 4}}, \"*\")"
      ],
      "text/plain": [
       "<IPython.core.display.Javascript object>"
      ]
     },
     "metadata": {},
     "output_type": "display_data"
    },
    {
     "data": {
      "text/markdown": [
       "<span style=\"color:#33cc99\">Solution:</span> \n",
       "```python\n",
       "reviews_per_region = reviews.region_1.fillna('Unknown').value_counts().sort_values(ascending=False)\n",
       "```"
      ],
      "text/plain": [
       "Solution: \n",
       "```python\n",
       "reviews_per_region = reviews.region_1.fillna('Unknown').value_counts().sort_values(ascending=False)\n",
       "```"
      ]
     },
     "metadata": {},
     "output_type": "display_data"
    }
   ],
   "source": [
    "#q4.hint()\n",
    "q4.solution()"
   ]
  },
  {
   "cell_type": "markdown",
   "id": "16930209",
   "metadata": {
    "papermill": {
     "duration": 0.005192,
     "end_time": "2023-05-07T06:41:07.606573",
     "exception": false,
     "start_time": "2023-05-07T06:41:07.601381",
     "status": "completed"
    },
    "tags": []
   },
   "source": [
    "# Keep going\n",
    "\n",
    "Move on to **[renaming and combining](https://www.kaggle.com/residentmario/renaming-and-combining)**."
   ]
  },
  {
   "cell_type": "markdown",
   "id": "f8151522",
   "metadata": {
    "papermill": {
     "duration": 0.005247,
     "end_time": "2023-05-07T06:41:07.617935",
     "exception": false,
     "start_time": "2023-05-07T06:41:07.612688",
     "status": "completed"
    },
    "tags": []
   },
   "source": [
    "---\n",
    "\n",
    "\n",
    "\n",
    "\n",
    "*Have questions or comments? Visit the [course discussion forum](https://www.kaggle.com/learn/pandas/discussion) to chat with other learners.*"
   ]
  }
 ],
 "metadata": {
  "kernelspec": {
   "display_name": "Python 3",
   "language": "python",
   "name": "python3"
  },
  "language_info": {
   "codemirror_mode": {
    "name": "ipython",
    "version": 3
   },
   "file_extension": ".py",
   "mimetype": "text/x-python",
   "name": "python",
   "nbconvert_exporter": "python",
   "pygments_lexer": "ipython3",
   "version": "3.10.10"
  },
  "papermill": {
   "default_parameters": {},
   "duration": 16.293098,
   "end_time": "2023-05-07T06:41:08.646198",
   "environment_variables": {},
   "exception": null,
   "input_path": "__notebook__.ipynb",
   "output_path": "__notebook__.ipynb",
   "parameters": {},
   "start_time": "2023-05-07T06:40:52.353100",
   "version": "2.4.0"
  }
 },
 "nbformat": 4,
 "nbformat_minor": 5
}
