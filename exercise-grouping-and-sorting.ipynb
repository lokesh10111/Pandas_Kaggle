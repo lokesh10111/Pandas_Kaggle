{
 "cells": [
  {
   "cell_type": "markdown",
   "id": "4e868dd9",
   "metadata": {
    "papermill": {
     "duration": 0.005877,
     "end_time": "2023-05-07T06:22:58.523357",
     "exception": false,
     "start_time": "2023-05-07T06:22:58.517480",
     "status": "completed"
    },
    "tags": []
   },
   "source": [
    "**This notebook is an exercise in the [Pandas](https://www.kaggle.com/learn/pandas) course.  You can reference the tutorial at [this link](https://www.kaggle.com/residentmario/grouping-and-sorting).**\n",
    "\n",
    "---\n"
   ]
  },
  {
   "cell_type": "markdown",
   "id": "71756348",
   "metadata": {
    "papermill": {
     "duration": 0.005602,
     "end_time": "2023-05-07T06:22:58.535229",
     "exception": false,
     "start_time": "2023-05-07T06:22:58.529627",
     "status": "completed"
    },
    "tags": []
   },
   "source": [
    "# Introduction\n",
    "\n",
    "In these exercises we'll apply groupwise analysis to our dataset.\n",
    "\n",
    "Run the code cell below to load the data before running the exercises."
   ]
  },
  {
   "cell_type": "code",
   "execution_count": 1,
   "id": "9afb1272",
   "metadata": {
    "execution": {
     "iopub.execute_input": "2023-05-07T06:22:58.548824Z",
     "iopub.status.busy": "2023-05-07T06:22:58.548392Z",
     "iopub.status.idle": "2023-05-07T06:23:01.876221Z",
     "shell.execute_reply": "2023-05-07T06:23:01.875084Z"
    },
    "papermill": {
     "duration": 3.337551,
     "end_time": "2023-05-07T06:23:01.878687",
     "exception": false,
     "start_time": "2023-05-07T06:22:58.541136",
     "status": "completed"
    },
    "tags": []
   },
   "outputs": [
    {
     "name": "stdout",
     "output_type": "stream",
     "text": [
      "Setup complete.\n"
     ]
    }
   ],
   "source": [
    "import pandas as pd\n",
    "\n",
    "reviews = pd.read_csv(\"../input/wine-reviews/winemag-data-130k-v2.csv\", index_col=0)\n",
    "#pd.set_option(\"display.max_rows\", 5)\n",
    "\n",
    "from learntools.core import binder; binder.bind(globals())\n",
    "from learntools.pandas.grouping_and_sorting import *\n",
    "print(\"Setup complete.\")"
   ]
  },
  {
   "cell_type": "markdown",
   "id": "6c4efb6a",
   "metadata": {
    "papermill": {
     "duration": 0.005298,
     "end_time": "2023-05-07T06:23:01.889705",
     "exception": false,
     "start_time": "2023-05-07T06:23:01.884407",
     "status": "completed"
    },
    "tags": []
   },
   "source": [
    "# Exercises"
   ]
  },
  {
   "cell_type": "markdown",
   "id": "4ad9bc3e",
   "metadata": {
    "papermill": {
     "duration": 0.005243,
     "end_time": "2023-05-07T06:23:01.900439",
     "exception": false,
     "start_time": "2023-05-07T06:23:01.895196",
     "status": "completed"
    },
    "tags": []
   },
   "source": [
    "## 1.\n",
    "Who are the most common wine reviewers in the dataset? Create a `Series` whose index is the `taster_twitter_handle` category from the dataset, and whose values count how many reviews each person wrote."
   ]
  },
  {
   "cell_type": "code",
   "execution_count": 2,
   "id": "9d101ade",
   "metadata": {
    "execution": {
     "iopub.execute_input": "2023-05-07T06:23:01.913253Z",
     "iopub.status.busy": "2023-05-07T06:23:01.912868Z",
     "iopub.status.idle": "2023-05-07T06:23:01.935204Z",
     "shell.execute_reply": "2023-05-07T06:23:01.933988Z"
    },
    "papermill": {
     "duration": 0.031543,
     "end_time": "2023-05-07T06:23:01.937422",
     "exception": false,
     "start_time": "2023-05-07T06:23:01.905879",
     "status": "completed"
    },
    "tags": []
   },
   "outputs": [
    {
     "data": {
      "application/javascript": [
       "parent.postMessage({\"jupyterEvent\": \"custom.exercise_interaction\", \"data\": {\"outcomeType\": 1, \"valueTowardsCompletion\": 0.16666666666666666, \"interactionType\": 1, \"questionType\": 1, \"questionId\": \"1_ReviewsWritten\", \"learnToolsVersion\": \"0.3.4\", \"failureMessage\": \"\", \"exceptionClass\": \"\", \"trace\": \"\"}}, \"*\")"
      ],
      "text/plain": [
       "<IPython.core.display.Javascript object>"
      ]
     },
     "metadata": {},
     "output_type": "display_data"
    },
    {
     "data": {
      "text/markdown": [
       "<span style=\"color:#33cc33\">Correct:</span> \n",
       "\n",
       "\n",
       "```python\n",
       "reviews_written = reviews.groupby('taster_twitter_handle').size()\n",
       "```\n",
       "or\n",
       "```python\n",
       "reviews_written = reviews.groupby('taster_twitter_handle').taster_twitter_handle.count()\n",
       "```\n"
      ],
      "text/plain": [
       "Correct: \n",
       "\n",
       "\n",
       "```python\n",
       "reviews_written = reviews.groupby('taster_twitter_handle').size()\n",
       "```\n",
       "or\n",
       "```python\n",
       "reviews_written = reviews.groupby('taster_twitter_handle').taster_twitter_handle.count()\n",
       "```"
      ]
     },
     "metadata": {},
     "output_type": "display_data"
    }
   ],
   "source": [
    "# Your code here\n",
    "reviews_written = reviews.groupby('taster_twitter_handle').size()\n",
    "\n",
    "# Check your answer\n",
    "q1.check()"
   ]
  },
  {
   "cell_type": "code",
   "execution_count": 3,
   "id": "928d2da4",
   "metadata": {
    "execution": {
     "iopub.execute_input": "2023-05-07T06:23:01.950984Z",
     "iopub.status.busy": "2023-05-07T06:23:01.950562Z",
     "iopub.status.idle": "2023-05-07T06:23:01.954641Z",
     "shell.execute_reply": "2023-05-07T06:23:01.953593Z"
    },
    "papermill": {
     "duration": 0.013297,
     "end_time": "2023-05-07T06:23:01.956658",
     "exception": false,
     "start_time": "2023-05-07T06:23:01.943361",
     "status": "completed"
    },
    "tags": []
   },
   "outputs": [],
   "source": [
    "#q1.hint()\n",
    "#q1.solution()"
   ]
  },
  {
   "cell_type": "markdown",
   "id": "9cdd68dc",
   "metadata": {
    "papermill": {
     "duration": 0.005617,
     "end_time": "2023-05-07T06:23:01.968229",
     "exception": false,
     "start_time": "2023-05-07T06:23:01.962612",
     "status": "completed"
    },
    "tags": []
   },
   "source": [
    "## 2.\n",
    "What is the best wine I can buy for a given amount of money? Create a `Series` whose index is wine prices and whose values is the maximum number of points a wine costing that much was given in a review. Sort the values by price, ascending (so that `4.0` dollars is at the top and `3300.0` dollars is at the bottom)."
   ]
  },
  {
   "cell_type": "code",
   "execution_count": 4,
   "id": "798b7511",
   "metadata": {
    "execution": {
     "iopub.execute_input": "2023-05-07T06:23:01.981587Z",
     "iopub.status.busy": "2023-05-07T06:23:01.981173Z",
     "iopub.status.idle": "2023-05-07T06:23:01.995793Z",
     "shell.execute_reply": "2023-05-07T06:23:01.994909Z"
    },
    "papermill": {
     "duration": 0.024038,
     "end_time": "2023-05-07T06:23:01.998101",
     "exception": false,
     "start_time": "2023-05-07T06:23:01.974063",
     "status": "completed"
    },
    "tags": []
   },
   "outputs": [
    {
     "data": {
      "application/javascript": [
       "parent.postMessage({\"jupyterEvent\": \"custom.exercise_interaction\", \"data\": {\"outcomeType\": 1, \"valueTowardsCompletion\": 0.16666666666666666, \"interactionType\": 1, \"questionType\": 1, \"questionId\": \"2_BestRatingPerPrice\", \"learnToolsVersion\": \"0.3.4\", \"failureMessage\": \"\", \"exceptionClass\": \"\", \"trace\": \"\"}}, \"*\")"
      ],
      "text/plain": [
       "<IPython.core.display.Javascript object>"
      ]
     },
     "metadata": {},
     "output_type": "display_data"
    },
    {
     "data": {
      "text/markdown": [
       "<span style=\"color:#33cc33\">Correct</span>"
      ],
      "text/plain": [
       "Correct"
      ]
     },
     "metadata": {},
     "output_type": "display_data"
    }
   ],
   "source": [
    "\n",
    "best_rating_per_price = reviews.groupby('price')['points'].max().sort_index()\n",
    "\n",
    "# Check your answer\n",
    "q2.check()"
   ]
  },
  {
   "cell_type": "code",
   "execution_count": 5,
   "id": "0ed71210",
   "metadata": {
    "execution": {
     "iopub.execute_input": "2023-05-07T06:23:02.012693Z",
     "iopub.status.busy": "2023-05-07T06:23:02.011864Z",
     "iopub.status.idle": "2023-05-07T06:23:02.017153Z",
     "shell.execute_reply": "2023-05-07T06:23:02.015491Z"
    },
    "papermill": {
     "duration": 0.01542,
     "end_time": "2023-05-07T06:23:02.019767",
     "exception": false,
     "start_time": "2023-05-07T06:23:02.004347",
     "status": "completed"
    },
    "tags": []
   },
   "outputs": [],
   "source": [
    "#q2.hint()\n",
    "#q2.solution()"
   ]
  },
  {
   "cell_type": "markdown",
   "id": "c56c0051",
   "metadata": {
    "papermill": {
     "duration": 0.00578,
     "end_time": "2023-05-07T06:23:02.031819",
     "exception": false,
     "start_time": "2023-05-07T06:23:02.026039",
     "status": "completed"
    },
    "tags": []
   },
   "source": [
    "## 3.\n",
    "What are the minimum and maximum prices for each `variety` of wine? Create a `DataFrame` whose index is the `variety` category from the dataset and whose values are the `min` and `max` values thereof."
   ]
  },
  {
   "cell_type": "code",
   "execution_count": 6,
   "id": "313df0a8",
   "metadata": {
    "execution": {
     "iopub.execute_input": "2023-05-07T06:23:02.046138Z",
     "iopub.status.busy": "2023-05-07T06:23:02.045402Z",
     "iopub.status.idle": "2023-05-07T06:23:02.070958Z",
     "shell.execute_reply": "2023-05-07T06:23:02.069922Z"
    },
    "papermill": {
     "duration": 0.035288,
     "end_time": "2023-05-07T06:23:02.073263",
     "exception": false,
     "start_time": "2023-05-07T06:23:02.037975",
     "status": "completed"
    },
    "tags": []
   },
   "outputs": [
    {
     "data": {
      "application/javascript": [
       "parent.postMessage({\"jupyterEvent\": \"custom.exercise_interaction\", \"data\": {\"outcomeType\": 1, \"valueTowardsCompletion\": 0.16666666666666666, \"interactionType\": 1, \"questionType\": 1, \"questionId\": \"3_PriceExtremes\", \"learnToolsVersion\": \"0.3.4\", \"failureMessage\": \"\", \"exceptionClass\": \"\", \"trace\": \"\"}}, \"*\")"
      ],
      "text/plain": [
       "<IPython.core.display.Javascript object>"
      ]
     },
     "metadata": {},
     "output_type": "display_data"
    },
    {
     "data": {
      "text/markdown": [
       "<span style=\"color:#33cc33\">Correct</span>"
      ],
      "text/plain": [
       "Correct"
      ]
     },
     "metadata": {},
     "output_type": "display_data"
    }
   ],
   "source": [
    "price_extremes = reviews.groupby('variety').price.agg([min,max])\n",
    "\n",
    "# Check your answer\n",
    "q3.check()"
   ]
  },
  {
   "cell_type": "code",
   "execution_count": 7,
   "id": "04808476",
   "metadata": {
    "execution": {
     "iopub.execute_input": "2023-05-07T06:23:02.087441Z",
     "iopub.status.busy": "2023-05-07T06:23:02.087044Z",
     "iopub.status.idle": "2023-05-07T06:23:02.091653Z",
     "shell.execute_reply": "2023-05-07T06:23:02.090587Z"
    },
    "papermill": {
     "duration": 0.014565,
     "end_time": "2023-05-07T06:23:02.094054",
     "exception": false,
     "start_time": "2023-05-07T06:23:02.079489",
     "status": "completed"
    },
    "tags": []
   },
   "outputs": [],
   "source": [
    "#q3.hint()\n",
    "#q3.solution()"
   ]
  },
  {
   "cell_type": "markdown",
   "id": "7e48324a",
   "metadata": {
    "papermill": {
     "duration": 0.006153,
     "end_time": "2023-05-07T06:23:02.106831",
     "exception": false,
     "start_time": "2023-05-07T06:23:02.100678",
     "status": "completed"
    },
    "tags": []
   },
   "source": [
    "## 4.\n",
    "What are the most expensive wine varieties? Create a variable `sorted_varieties` containing a copy of the dataframe from the previous question where varieties are sorted in descending order based on minimum price, then on maximum price (to break ties)."
   ]
  },
  {
   "cell_type": "code",
   "execution_count": 8,
   "id": "f195125e",
   "metadata": {
    "execution": {
     "iopub.execute_input": "2023-05-07T06:23:02.121278Z",
     "iopub.status.busy": "2023-05-07T06:23:02.120588Z",
     "iopub.status.idle": "2023-05-07T06:23:02.132282Z",
     "shell.execute_reply": "2023-05-07T06:23:02.131112Z"
    },
    "papermill": {
     "duration": 0.021635,
     "end_time": "2023-05-07T06:23:02.134742",
     "exception": false,
     "start_time": "2023-05-07T06:23:02.113107",
     "status": "completed"
    },
    "tags": []
   },
   "outputs": [
    {
     "data": {
      "application/javascript": [
       "parent.postMessage({\"jupyterEvent\": \"custom.exercise_interaction\", \"data\": {\"outcomeType\": 1, \"valueTowardsCompletion\": 0.16666666666666666, \"interactionType\": 1, \"questionType\": 1, \"questionId\": \"4_SortedVarieties\", \"learnToolsVersion\": \"0.3.4\", \"failureMessage\": \"\", \"exceptionClass\": \"\", \"trace\": \"\"}}, \"*\")"
      ],
      "text/plain": [
       "<IPython.core.display.Javascript object>"
      ]
     },
     "metadata": {},
     "output_type": "display_data"
    },
    {
     "data": {
      "text/markdown": [
       "<span style=\"color:#33cc33\">Correct</span>"
      ],
      "text/plain": [
       "Correct"
      ]
     },
     "metadata": {},
     "output_type": "display_data"
    }
   ],
   "source": [
    "sorted_varieties = price_extremes.sort_values(by=['min', 'max'], ascending=False)\n",
    "\n",
    "# Check your answer\n",
    "q4.check()"
   ]
  },
  {
   "cell_type": "code",
   "execution_count": 9,
   "id": "edf9d75a",
   "metadata": {
    "execution": {
     "iopub.execute_input": "2023-05-07T06:23:02.150184Z",
     "iopub.status.busy": "2023-05-07T06:23:02.149700Z",
     "iopub.status.idle": "2023-05-07T06:23:02.153608Z",
     "shell.execute_reply": "2023-05-07T06:23:02.152778Z"
    },
    "papermill": {
     "duration": 0.014129,
     "end_time": "2023-05-07T06:23:02.155594",
     "exception": false,
     "start_time": "2023-05-07T06:23:02.141465",
     "status": "completed"
    },
    "tags": []
   },
   "outputs": [],
   "source": [
    "#q4.hint()\n",
    "#q4.solution()"
   ]
  },
  {
   "cell_type": "markdown",
   "id": "7f0e1cb7",
   "metadata": {
    "papermill": {
     "duration": 0.006208,
     "end_time": "2023-05-07T06:23:02.168533",
     "exception": false,
     "start_time": "2023-05-07T06:23:02.162325",
     "status": "completed"
    },
    "tags": []
   },
   "source": [
    "## 5.\n",
    "Create a `Series` whose index is reviewers and whose values is the average review score given out by that reviewer. Hint: you will need the `taster_name` and `points` columns."
   ]
  },
  {
   "cell_type": "code",
   "execution_count": 10,
   "id": "c617842c",
   "metadata": {
    "execution": {
     "iopub.execute_input": "2023-05-07T06:23:02.184639Z",
     "iopub.status.busy": "2023-05-07T06:23:02.184240Z",
     "iopub.status.idle": "2023-05-07T06:23:02.204639Z",
     "shell.execute_reply": "2023-05-07T06:23:02.203852Z"
    },
    "papermill": {
     "duration": 0.030782,
     "end_time": "2023-05-07T06:23:02.206732",
     "exception": false,
     "start_time": "2023-05-07T06:23:02.175950",
     "status": "completed"
    },
    "tags": []
   },
   "outputs": [
    {
     "data": {
      "application/javascript": [
       "parent.postMessage({\"jupyterEvent\": \"custom.exercise_interaction\", \"data\": {\"outcomeType\": 1, \"valueTowardsCompletion\": 0.16666666666666666, \"interactionType\": 1, \"questionType\": 1, \"questionId\": \"5_ReviewerMeanRatings\", \"learnToolsVersion\": \"0.3.4\", \"failureMessage\": \"\", \"exceptionClass\": \"\", \"trace\": \"\"}}, \"*\")"
      ],
      "text/plain": [
       "<IPython.core.display.Javascript object>"
      ]
     },
     "metadata": {},
     "output_type": "display_data"
    },
    {
     "data": {
      "text/markdown": [
       "<span style=\"color:#33cc33\">Correct</span>"
      ],
      "text/plain": [
       "Correct"
      ]
     },
     "metadata": {},
     "output_type": "display_data"
    }
   ],
   "source": [
    "reviewer_mean_ratings = reviews.groupby('taster_name').points.mean() \n",
    "\n",
    "# Check your answer\n",
    "q5.check()"
   ]
  },
  {
   "cell_type": "code",
   "execution_count": 11,
   "id": "22b054e6",
   "metadata": {
    "execution": {
     "iopub.execute_input": "2023-05-07T06:23:02.222526Z",
     "iopub.status.busy": "2023-05-07T06:23:02.222139Z",
     "iopub.status.idle": "2023-05-07T06:23:02.226906Z",
     "shell.execute_reply": "2023-05-07T06:23:02.225657Z"
    },
    "papermill": {
     "duration": 0.015686,
     "end_time": "2023-05-07T06:23:02.229072",
     "exception": false,
     "start_time": "2023-05-07T06:23:02.213386",
     "status": "completed"
    },
    "tags": []
   },
   "outputs": [],
   "source": [
    "#q5.hint()\n",
    "#q5.solution()"
   ]
  },
  {
   "cell_type": "markdown",
   "id": "bbde315e",
   "metadata": {
    "papermill": {
     "duration": 0.006453,
     "end_time": "2023-05-07T06:23:02.242561",
     "exception": false,
     "start_time": "2023-05-07T06:23:02.236108",
     "status": "completed"
    },
    "tags": []
   },
   "source": [
    "Are there significant differences in the average scores assigned by the various reviewers? Run the cell below to use the `describe()` method to see a summary of the range of values."
   ]
  },
  {
   "cell_type": "code",
   "execution_count": 12,
   "id": "00f2df06",
   "metadata": {
    "execution": {
     "iopub.execute_input": "2023-05-07T06:23:02.257966Z",
     "iopub.status.busy": "2023-05-07T06:23:02.257580Z",
     "iopub.status.idle": "2023-05-07T06:23:02.271799Z",
     "shell.execute_reply": "2023-05-07T06:23:02.270627Z"
    },
    "papermill": {
     "duration": 0.024854,
     "end_time": "2023-05-07T06:23:02.274057",
     "exception": false,
     "start_time": "2023-05-07T06:23:02.249203",
     "status": "completed"
    },
    "tags": []
   },
   "outputs": [
    {
     "data": {
      "text/plain": [
       "count    19.000000\n",
       "mean     88.233026\n",
       "std       1.243610\n",
       "min      85.855422\n",
       "25%      87.323501\n",
       "50%      88.536235\n",
       "75%      88.975256\n",
       "max      90.562551\n",
       "Name: points, dtype: float64"
      ]
     },
     "execution_count": 12,
     "metadata": {},
     "output_type": "execute_result"
    }
   ],
   "source": [
    "reviewer_mean_ratings.describe()"
   ]
  },
  {
   "cell_type": "markdown",
   "id": "dfa32d06",
   "metadata": {
    "papermill": {
     "duration": 0.006583,
     "end_time": "2023-05-07T06:23:02.287681",
     "exception": false,
     "start_time": "2023-05-07T06:23:02.281098",
     "status": "completed"
    },
    "tags": []
   },
   "source": [
    "## 6.\n",
    "What combination of countries and varieties are most common? Create a `Series` whose index is a `MultiIndex`of `{country, variety}` pairs. For example, a pinot noir produced in the US should map to `{\"US\", \"Pinot Noir\"}`. Sort the values in the `Series` in descending order based on wine count."
   ]
  },
  {
   "cell_type": "code",
   "execution_count": 13,
   "id": "eb59e0b8",
   "metadata": {
    "execution": {
     "iopub.execute_input": "2023-05-07T06:23:02.303620Z",
     "iopub.status.busy": "2023-05-07T06:23:02.302618Z",
     "iopub.status.idle": "2023-05-07T06:23:02.342192Z",
     "shell.execute_reply": "2023-05-07T06:23:02.340511Z"
    },
    "papermill": {
     "duration": 0.051086,
     "end_time": "2023-05-07T06:23:02.345467",
     "exception": false,
     "start_time": "2023-05-07T06:23:02.294381",
     "status": "completed"
    },
    "tags": []
   },
   "outputs": [
    {
     "data": {
      "application/javascript": [
       "parent.postMessage({\"jupyterEvent\": \"custom.exercise_interaction\", \"data\": {\"outcomeType\": 1, \"valueTowardsCompletion\": 0.16666666666666666, \"interactionType\": 1, \"questionType\": 1, \"questionId\": \"6_GroupbyCountryVariety\", \"learnToolsVersion\": \"0.3.4\", \"failureMessage\": \"\", \"exceptionClass\": \"\", \"trace\": \"\"}}, \"*\")"
      ],
      "text/plain": [
       "<IPython.core.display.Javascript object>"
      ]
     },
     "metadata": {},
     "output_type": "display_data"
    },
    {
     "data": {
      "text/markdown": [
       "<span style=\"color:#33cc33\">Correct</span>"
      ],
      "text/plain": [
       "Correct"
      ]
     },
     "metadata": {},
     "output_type": "display_data"
    }
   ],
   "source": [
    "indices=['country','variety']\n",
    "country_variety_counts = reviews.groupby(indices).size().sort_values(ascending=False)\n",
    "\n",
    "# Check your answer\n",
    "q6.check()"
   ]
  },
  {
   "cell_type": "code",
   "execution_count": 14,
   "id": "6838d0b8",
   "metadata": {
    "execution": {
     "iopub.execute_input": "2023-05-07T06:23:02.362783Z",
     "iopub.status.busy": "2023-05-07T06:23:02.362352Z",
     "iopub.status.idle": "2023-05-07T06:23:02.368043Z",
     "shell.execute_reply": "2023-05-07T06:23:02.366317Z"
    },
    "papermill": {
     "duration": 0.018245,
     "end_time": "2023-05-07T06:23:02.371735",
     "exception": false,
     "start_time": "2023-05-07T06:23:02.353490",
     "status": "completed"
    },
    "tags": []
   },
   "outputs": [],
   "source": [
    "#q6.hint()\n",
    "#q6.solution()"
   ]
  },
  {
   "cell_type": "markdown",
   "id": "8a965a33",
   "metadata": {
    "papermill": {
     "duration": 0.00735,
     "end_time": "2023-05-07T06:23:02.388327",
     "exception": false,
     "start_time": "2023-05-07T06:23:02.380977",
     "status": "completed"
    },
    "tags": []
   },
   "source": [
    "# Keep going\n",
    "\n",
    "Move on to the [**data types and missing data**](https://www.kaggle.com/residentmario/data-types-and-missing-values)."
   ]
  },
  {
   "cell_type": "markdown",
   "id": "14444752",
   "metadata": {
    "papermill": {
     "duration": 0.008601,
     "end_time": "2023-05-07T06:23:02.405014",
     "exception": false,
     "start_time": "2023-05-07T06:23:02.396413",
     "status": "completed"
    },
    "tags": []
   },
   "source": [
    "---\n",
    "\n",
    "\n",
    "\n",
    "\n",
    "*Have questions or comments? Visit the [course discussion forum](https://www.kaggle.com/learn/pandas/discussion) to chat with other learners.*"
   ]
  }
 ],
 "metadata": {
  "kernelspec": {
   "display_name": "Python 3",
   "language": "python",
   "name": "python3"
  },
  "language_info": {
   "codemirror_mode": {
    "name": "ipython",
    "version": 3
   },
   "file_extension": ".py",
   "mimetype": "text/x-python",
   "name": "python",
   "nbconvert_exporter": "python",
   "pygments_lexer": "ipython3",
   "version": "3.10.10"
  },
  "papermill": {
   "default_parameters": {},
   "duration": 15.673684,
   "end_time": "2023-05-07T06:23:03.337683",
   "environment_variables": {},
   "exception": null,
   "input_path": "__notebook__.ipynb",
   "output_path": "__notebook__.ipynb",
   "parameters": {},
   "start_time": "2023-05-07T06:22:47.663999",
   "version": "2.4.0"
  }
 },
 "nbformat": 4,
 "nbformat_minor": 5
}
